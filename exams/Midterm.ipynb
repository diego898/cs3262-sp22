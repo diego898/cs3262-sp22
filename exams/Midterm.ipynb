{
 "cells": [
  {
   "cell_type": "markdown",
   "id": "a5430957",
   "metadata": {},
   "source": [
    "# Midterm Notebook"
   ]
  },
  {
   "cell_type": "markdown",
   "id": "0afed911",
   "metadata": {},
   "source": [
    "Welcome to your midterm. Logistics:\n",
    "- Open book/open note/**no internet**\n",
    "- You are not allowed to discuss the exam with each other\n",
    "- All questions about the exam will come to me, through email. Do not send any public messages to me, or each other about the exam.\n",
    "- If there are any clarifications required, I will post them on brightspace and update this document.\n",
    "\n",
    "A note on the **kinds** of answers I expect: As is our style on HW and in class, many of these questions are open ended and are **not** asking you to repeat what you've read or heard in class. On the contrary, if I read my own words (or a texts) I will mark that down! I expect you to demonstrate your original thoughts. Almost none of these questions require 3-word answers (some do though, those should be clear by the question!). Having said that, I also don't want you to start just typing out vocabulary words that we've used in class. \n",
    "\n",
    "**Tip**: If you feel you can't answer a question, skip it and come back. Sometimes reading the entire thing will help clarify the individual parts. If all else fails, I will award partial credit for effort, and a clear explanation of what you're confused about and why. \n",
    "\n",
    "**Try and explain your confusion!**"
   ]
  },
  {
   "cell_type": "markdown",
   "id": "40257366",
   "metadata": {},
   "source": [
    "## Changelog\n",
    "\n",
    "<br/>\n",
    "<div class='alert alert-info'>\n",
    "\n",
    "<font size='5'>👾</font> **Note:**  This is **version 1**, updated on 2022-03-18 at 9:00am.\n",
    "\n",
    "</div>"
   ]
  },
  {
   "cell_type": "markdown",
   "id": "6bfb489d",
   "metadata": {},
   "source": [
    "## Notebook Setup"
   ]
  },
  {
   "cell_type": "code",
   "execution_count": 1,
   "id": "e3ef05c5",
   "metadata": {
    "code_folding": [
     0,
     17
    ]
   },
   "outputs": [
    {
     "data": {
      "text/html": [
       "\n",
       "    <style>\n",
       "        div.info{\n",
       "            padding: 15px; \n",
       "            border: 1px solid transparent; \n",
       "            border-left: 5px solid #dfb5b4; \n",
       "            border-color: transparent; \n",
       "            margin-bottom: 10px; \n",
       "            border-radius: 4px; \n",
       "            background-color: #fcf8e3; \n",
       "            border-color: #faebcc;\n",
       "        }\n",
       "        hr{\n",
       "            border: 1px solid;\n",
       "            border-radius: 5px;\n",
       "        }\n",
       "    </style>"
      ],
      "text/plain": [
       "<IPython.core.display.HTML object>"
      ]
     },
     "execution_count": 1,
     "metadata": {},
     "output_type": "execute_result"
    }
   ],
   "source": [
    "# imports\n",
    "import numpy as np\n",
    "import matplotlib.pyplot as plt\n",
    "colors = plt.rcParams[\"axes.prop_cycle\"].by_key()[\"color\"]\n",
    "import seaborn as sns\n",
    "\n",
    "# 3d figures\n",
    "import matplotlib as mpl\n",
    "from mpl_toolkits.mplot3d import Axes3D\n",
    "from matplotlib import cm\n",
    "\n",
    "# creating animations\n",
    "import matplotlib.animation\n",
    "from IPython.display import HTML\n",
    "\n",
    "# styling additions\n",
    "from IPython.display import HTML\n",
    "style = '''\n",
    "    <style>\n",
    "        div.info{\n",
    "            padding: 15px; \n",
    "            border: 1px solid transparent; \n",
    "            border-left: 5px solid #dfb5b4; \n",
    "            border-color: transparent; \n",
    "            margin-bottom: 10px; \n",
    "            border-radius: 4px; \n",
    "            background-color: #fcf8e3; \n",
    "            border-color: #faebcc;\n",
    "        }\n",
    "        hr{\n",
    "            border: 1px solid;\n",
    "            border-radius: 5px;\n",
    "        }\n",
    "    </style>'''\n",
    "HTML(style)"
   ]
  },
  {
   "cell_type": "markdown",
   "id": "eca407d3",
   "metadata": {},
   "source": [
    "# Problem 1"
   ]
  },
  {
   "cell_type": "markdown",
   "id": "714e8a07",
   "metadata": {},
   "source": [
    "For this problem, we're going to use the `penguins` dataset built into `seaborn`."
   ]
  },
  {
   "cell_type": "code",
   "execution_count": 2,
   "id": "7562f360",
   "metadata": {},
   "outputs": [],
   "source": [
    "penguins_df = sns.load_dataset(\"penguins\").dropna()"
   ]
  },
  {
   "cell_type": "markdown",
   "id": "578683f0",
   "metadata": {},
   "source": [
    "Note, this gives you a dataframe as:"
   ]
  },
  {
   "cell_type": "code",
   "execution_count": 3,
   "id": "c65caea2",
   "metadata": {},
   "outputs": [
    {
     "data": {
      "text/html": [
       "<div>\n",
       "<style scoped>\n",
       "    .dataframe tbody tr th:only-of-type {\n",
       "        vertical-align: middle;\n",
       "    }\n",
       "\n",
       "    .dataframe tbody tr th {\n",
       "        vertical-align: top;\n",
       "    }\n",
       "\n",
       "    .dataframe thead th {\n",
       "        text-align: right;\n",
       "    }\n",
       "</style>\n",
       "<table border=\"1\" class=\"dataframe\">\n",
       "  <thead>\n",
       "    <tr style=\"text-align: right;\">\n",
       "      <th></th>\n",
       "      <th>species</th>\n",
       "      <th>island</th>\n",
       "      <th>bill_length_mm</th>\n",
       "      <th>bill_depth_mm</th>\n",
       "      <th>flipper_length_mm</th>\n",
       "      <th>body_mass_g</th>\n",
       "      <th>sex</th>\n",
       "    </tr>\n",
       "  </thead>\n",
       "  <tbody>\n",
       "    <tr>\n",
       "      <th>0</th>\n",
       "      <td>Adelie</td>\n",
       "      <td>Torgersen</td>\n",
       "      <td>39.1</td>\n",
       "      <td>18.7</td>\n",
       "      <td>181.0</td>\n",
       "      <td>3750.0</td>\n",
       "      <td>Male</td>\n",
       "    </tr>\n",
       "    <tr>\n",
       "      <th>1</th>\n",
       "      <td>Adelie</td>\n",
       "      <td>Torgersen</td>\n",
       "      <td>39.5</td>\n",
       "      <td>17.4</td>\n",
       "      <td>186.0</td>\n",
       "      <td>3800.0</td>\n",
       "      <td>Female</td>\n",
       "    </tr>\n",
       "    <tr>\n",
       "      <th>2</th>\n",
       "      <td>Adelie</td>\n",
       "      <td>Torgersen</td>\n",
       "      <td>40.3</td>\n",
       "      <td>18.0</td>\n",
       "      <td>195.0</td>\n",
       "      <td>3250.0</td>\n",
       "      <td>Female</td>\n",
       "    </tr>\n",
       "    <tr>\n",
       "      <th>4</th>\n",
       "      <td>Adelie</td>\n",
       "      <td>Torgersen</td>\n",
       "      <td>36.7</td>\n",
       "      <td>19.3</td>\n",
       "      <td>193.0</td>\n",
       "      <td>3450.0</td>\n",
       "      <td>Female</td>\n",
       "    </tr>\n",
       "    <tr>\n",
       "      <th>5</th>\n",
       "      <td>Adelie</td>\n",
       "      <td>Torgersen</td>\n",
       "      <td>39.3</td>\n",
       "      <td>20.6</td>\n",
       "      <td>190.0</td>\n",
       "      <td>3650.0</td>\n",
       "      <td>Male</td>\n",
       "    </tr>\n",
       "    <tr>\n",
       "      <th>...</th>\n",
       "      <td>...</td>\n",
       "      <td>...</td>\n",
       "      <td>...</td>\n",
       "      <td>...</td>\n",
       "      <td>...</td>\n",
       "      <td>...</td>\n",
       "      <td>...</td>\n",
       "    </tr>\n",
       "    <tr>\n",
       "      <th>338</th>\n",
       "      <td>Gentoo</td>\n",
       "      <td>Biscoe</td>\n",
       "      <td>47.2</td>\n",
       "      <td>13.7</td>\n",
       "      <td>214.0</td>\n",
       "      <td>4925.0</td>\n",
       "      <td>Female</td>\n",
       "    </tr>\n",
       "    <tr>\n",
       "      <th>340</th>\n",
       "      <td>Gentoo</td>\n",
       "      <td>Biscoe</td>\n",
       "      <td>46.8</td>\n",
       "      <td>14.3</td>\n",
       "      <td>215.0</td>\n",
       "      <td>4850.0</td>\n",
       "      <td>Female</td>\n",
       "    </tr>\n",
       "    <tr>\n",
       "      <th>341</th>\n",
       "      <td>Gentoo</td>\n",
       "      <td>Biscoe</td>\n",
       "      <td>50.4</td>\n",
       "      <td>15.7</td>\n",
       "      <td>222.0</td>\n",
       "      <td>5750.0</td>\n",
       "      <td>Male</td>\n",
       "    </tr>\n",
       "    <tr>\n",
       "      <th>342</th>\n",
       "      <td>Gentoo</td>\n",
       "      <td>Biscoe</td>\n",
       "      <td>45.2</td>\n",
       "      <td>14.8</td>\n",
       "      <td>212.0</td>\n",
       "      <td>5200.0</td>\n",
       "      <td>Female</td>\n",
       "    </tr>\n",
       "    <tr>\n",
       "      <th>343</th>\n",
       "      <td>Gentoo</td>\n",
       "      <td>Biscoe</td>\n",
       "      <td>49.9</td>\n",
       "      <td>16.1</td>\n",
       "      <td>213.0</td>\n",
       "      <td>5400.0</td>\n",
       "      <td>Male</td>\n",
       "    </tr>\n",
       "  </tbody>\n",
       "</table>\n",
       "<p>333 rows × 7 columns</p>\n",
       "</div>"
      ],
      "text/plain": [
       "    species     island  bill_length_mm  bill_depth_mm  flipper_length_mm  \\\n",
       "0    Adelie  Torgersen            39.1           18.7              181.0   \n",
       "1    Adelie  Torgersen            39.5           17.4              186.0   \n",
       "2    Adelie  Torgersen            40.3           18.0              195.0   \n",
       "4    Adelie  Torgersen            36.7           19.3              193.0   \n",
       "5    Adelie  Torgersen            39.3           20.6              190.0   \n",
       "..      ...        ...             ...            ...                ...   \n",
       "338  Gentoo     Biscoe            47.2           13.7              214.0   \n",
       "340  Gentoo     Biscoe            46.8           14.3              215.0   \n",
       "341  Gentoo     Biscoe            50.4           15.7              222.0   \n",
       "342  Gentoo     Biscoe            45.2           14.8              212.0   \n",
       "343  Gentoo     Biscoe            49.9           16.1              213.0   \n",
       "\n",
       "     body_mass_g     sex  \n",
       "0         3750.0    Male  \n",
       "1         3800.0  Female  \n",
       "2         3250.0  Female  \n",
       "4         3450.0  Female  \n",
       "5         3650.0    Male  \n",
       "..           ...     ...  \n",
       "338       4925.0  Female  \n",
       "340       4850.0  Female  \n",
       "341       5750.0    Male  \n",
       "342       5200.0  Female  \n",
       "343       5400.0    Male  \n",
       "\n",
       "[333 rows x 7 columns]"
      ]
     },
     "execution_count": 3,
     "metadata": {},
     "output_type": "execute_result"
    }
   ],
   "source": [
    "penguins_df"
   ]
  },
  {
   "cell_type": "markdown",
   "id": "e0a96a9f",
   "metadata": {},
   "source": [
    "## 1.A"
   ]
  },
  {
   "cell_type": "markdown",
   "id": "0b47d5aa",
   "metadata": {},
   "source": [
    "As we did in the \"Exploratory Data Analysis\" discussion, draw a \"scatter plot matrix\" of this dataset's 4 numeric features:\n",
    "- `bill_length_mm`\n",
    "- `bill_depth_mm`\n",
    "- `flipper_length_mm`\n",
    "- `body_mass_g`\n",
    "\n",
    "and colored by their `species`.\n",
    "\n",
    "<br/>\n",
    "<div class='info'>\n",
    "    \n",
    "<font size='5'>👇🏽</font> **Note:** This is the figure I want you to generate\n",
    "\n",
    "</div>\n",
    "\n",
    "![](penguins_df.png)"
   ]
  },
  {
   "cell_type": "code",
   "execution_count": 4,
   "id": "3bb80c43",
   "metadata": {},
   "outputs": [],
   "source": [
    "# CODE HERE:\n"
   ]
  },
  {
   "cell_type": "code",
   "execution_count": null,
   "id": "74467b89",
   "metadata": {},
   "outputs": [],
   "source": []
  },
  {
   "cell_type": "markdown",
   "id": "844e9f03",
   "metadata": {},
   "source": [
    "<br/>\n",
    "<div class='info'>\n",
    "    \n",
    "<font size='5'>🤔</font> **Question:** Explain what we are looking at in this figure. Explain to me its diagonal, and its off diagonal elements. Why is this kind of graphic helpful? Give a thorough explanation here!\n",
    "\n",
    "</div>\n",
    "\n",
    "---"
   ]
  },
  {
   "cell_type": "markdown",
   "id": "60e201a3",
   "metadata": {},
   "source": []
  },
  {
   "cell_type": "markdown",
   "id": "2114059f",
   "metadata": {},
   "source": [
    "---"
   ]
  },
  {
   "cell_type": "markdown",
   "id": "5feade59",
   "metadata": {},
   "source": [
    "<div class='info'>\n",
    "    \n",
    "<font size='5'>🤔</font> **Question:** Based on the figure and your explanation, if I wanted to tell apart the **Adelie** from the **Chinstrap** penguis, **which two features would be the best?** Why? Give a good explanation here! \n",
    "\n",
    "</div>\n",
    "\n",
    "---"
   ]
  },
  {
   "cell_type": "markdown",
   "id": "79627fba",
   "metadata": {},
   "source": []
  },
  {
   "cell_type": "markdown",
   "id": "a0baa38c",
   "metadata": {},
   "source": [
    "---"
   ]
  },
  {
   "cell_type": "markdown",
   "id": "424f54e3",
   "metadata": {},
   "source": [
    "## 1.B\n",
    "\n",
    "Now that you've picked these two features, perform a **linear regression** and use it to try and classify these two penguins apart. \n",
    "\n",
    "**Make sure you report the weight values you've learned!**\n",
    "\n",
    "<br/>\n",
    "<div class='info'>\n",
    "\n",
    "<font size='5'>☝🏽</font> **Hint:**  This is very similar to what we did on HW1!\n",
    "\n",
    "</div>"
   ]
  },
  {
   "cell_type": "code",
   "execution_count": null,
   "id": "975de872",
   "metadata": {},
   "outputs": [],
   "source": []
  },
  {
   "cell_type": "code",
   "execution_count": null,
   "id": "f376019f",
   "metadata": {},
   "outputs": [],
   "source": []
  },
  {
   "cell_type": "code",
   "execution_count": null,
   "id": "d30f06fe",
   "metadata": {},
   "outputs": [],
   "source": []
  },
  {
   "cell_type": "markdown",
   "id": "afcba2a4",
   "metadata": {},
   "source": [
    "### Bonus\n",
    "\n",
    "Show a figure, plotting the datapoints with your regression line."
   ]
  },
  {
   "cell_type": "code",
   "execution_count": null,
   "id": "389d15fd",
   "metadata": {},
   "outputs": [],
   "source": []
  },
  {
   "cell_type": "code",
   "execution_count": null,
   "id": "b757d49b",
   "metadata": {},
   "outputs": [],
   "source": []
  },
  {
   "cell_type": "code",
   "execution_count": null,
   "id": "a001fb5e",
   "metadata": {},
   "outputs": [],
   "source": []
  },
  {
   "cell_type": "markdown",
   "id": "4439178e",
   "metadata": {},
   "source": [
    "## 1.C\n",
    "\n",
    "Perform a **logistic regression** and use it to try and classify these two penguins apart. **Make sure you report the value's you've learned!**\n",
    "\n",
    "<br/>\n",
    "<div class='info'>\n",
    "    \n",
    "<font size='5'>☝🏽</font> **Hint:** Remember, these are available under the `.coef_` and `.intercept_` names for logistic regression in `sklearn`\n",
    "\n",
    "</div>"
   ]
  },
  {
   "cell_type": "code",
   "execution_count": 5,
   "id": "ccffafa9",
   "metadata": {},
   "outputs": [],
   "source": [
    "from sklearn.linear_model import LogisticRegression"
   ]
  },
  {
   "cell_type": "code",
   "execution_count": null,
   "id": "9162fc67",
   "metadata": {},
   "outputs": [],
   "source": []
  },
  {
   "cell_type": "code",
   "execution_count": null,
   "id": "db305d33",
   "metadata": {},
   "outputs": [],
   "source": []
  },
  {
   "cell_type": "code",
   "execution_count": null,
   "id": "8f394732",
   "metadata": {},
   "outputs": [],
   "source": []
  },
  {
   "cell_type": "markdown",
   "id": "9b537191",
   "metadata": {},
   "source": [
    "### Bonus\n",
    "\n",
    "Show a 2D figure, plotting the datapoints with your logistic regression line."
   ]
  },
  {
   "cell_type": "code",
   "execution_count": null,
   "id": "1854b3d1",
   "metadata": {},
   "outputs": [],
   "source": []
  },
  {
   "cell_type": "code",
   "execution_count": null,
   "id": "666f1a5a",
   "metadata": {},
   "outputs": [],
   "source": []
  },
  {
   "cell_type": "code",
   "execution_count": null,
   "id": "f354ce72",
   "metadata": {},
   "outputs": [],
   "source": []
  },
  {
   "cell_type": "markdown",
   "id": "e8f209cc",
   "metadata": {},
   "source": [
    "## 1.D \n",
    "\n",
    "Calculate the error in both the linear regression and logistic regression models. Which performs better?"
   ]
  },
  {
   "cell_type": "code",
   "execution_count": null,
   "id": "3007aac1",
   "metadata": {},
   "outputs": [],
   "source": []
  },
  {
   "cell_type": "code",
   "execution_count": null,
   "id": "5de04337",
   "metadata": {},
   "outputs": [],
   "source": []
  },
  {
   "cell_type": "code",
   "execution_count": null,
   "id": "151d6f9a",
   "metadata": {},
   "outputs": [],
   "source": []
  },
  {
   "cell_type": "markdown",
   "id": "4d9a266a",
   "metadata": {},
   "source": [
    "## 1.E \n",
    "\n",
    "<br/>\n",
    "<div class='info'>\n",
    "\n",
    "<font size='5'>🤔</font> **Question:**  Wait a minute. How did we use linear regression and logistic regression for **classification**? Explain why these are called regression models, and how we used them for classification!\n",
    "\n",
    "</div>\n",
    "\n",
    "---"
   ]
  },
  {
   "cell_type": "markdown",
   "id": "5f3a760c",
   "metadata": {},
   "source": []
  },
  {
   "cell_type": "markdown",
   "id": "3aff085b",
   "metadata": {},
   "source": [
    "---"
   ]
  },
  {
   "cell_type": "markdown",
   "id": "f9a211f3",
   "metadata": {},
   "source": [
    "# Problem 2\n",
    "\n",
    "Lets continue with the same dataset as above. For this problem were going to train:\n",
    "- KNN with `K = 4`\n",
    "- SVM with `C` \"very high\", and \"very low\"."
   ]
  },
  {
   "cell_type": "markdown",
   "id": "177ed8e5",
   "metadata": {},
   "source": [
    "## 2.A\n",
    "First, lets answer some questions:\n",
    "<br/>\n",
    "<div class='info'>\n",
    "\n",
    "<font size='5'>🤔</font> **Question:**  What is the effect `K` has on a KNN? What happens when its small? When its large? \n",
    "\n",
    "</div>\n",
    "\n",
    "---"
   ]
  },
  {
   "cell_type": "markdown",
   "id": "5e1869a2",
   "metadata": {},
   "source": []
  },
  {
   "cell_type": "markdown",
   "id": "29a3e178",
   "metadata": {},
   "source": [
    "---"
   ]
  },
  {
   "cell_type": "markdown",
   "id": "428a1ed5",
   "metadata": {},
   "source": [
    "<br/>\n",
    "<div class='info'>\n",
    "\n",
    "<font size='5'>🤔</font> **Question:**  What about the `C` parameter on SVMs? What effect does it have?\n",
    "\n",
    "</div>\n",
    "\n",
    "---"
   ]
  },
  {
   "cell_type": "markdown",
   "id": "b0999538",
   "metadata": {},
   "source": []
  },
  {
   "cell_type": "markdown",
   "id": "85d9c7ec",
   "metadata": {},
   "source": [
    "---"
   ]
  },
  {
   "cell_type": "markdown",
   "id": "f5d9b0ce",
   "metadata": {},
   "source": [
    "## 2.B\n",
    "\n",
    "Ok lets code it up! Here, I want you to:\n",
    "\n",
    "- Split your dataset into 80% training, and 20% testing. \n",
    "- Normalize your features\n",
    "- Train **each** model on the training data, and then evaluate them on the testing data. "
   ]
  },
  {
   "cell_type": "code",
   "execution_count": null,
   "id": "3d8d751d",
   "metadata": {},
   "outputs": [],
   "source": []
  },
  {
   "cell_type": "code",
   "execution_count": null,
   "id": "01fd9704",
   "metadata": {},
   "outputs": [],
   "source": []
  },
  {
   "cell_type": "code",
   "execution_count": null,
   "id": "16dc73d6",
   "metadata": {},
   "outputs": [],
   "source": []
  },
  {
   "cell_type": "markdown",
   "id": "49e7a08d",
   "metadata": {},
   "source": [
    "## 2.C\n",
    "\n",
    "<br/>\n",
    "<div class='info'>\n",
    "\n",
    "<font size='5'>🤔</font> **Question**: Which model does better? Can you think of reasons why this model would do better in this case? Think about this one! Give a good answer!\n",
    "\n",
    "</div>\n",
    "\n",
    "---"
   ]
  },
  {
   "cell_type": "markdown",
   "id": "e27cfca3",
   "metadata": {},
   "source": []
  },
  {
   "cell_type": "markdown",
   "id": "dfe59066",
   "metadata": {},
   "source": [
    "---"
   ]
  },
  {
   "cell_type": "markdown",
   "id": "a84b33f4",
   "metadata": {},
   "source": [
    "# Problem 3"
   ]
  },
  {
   "cell_type": "markdown",
   "id": "2989f061",
   "metadata": {},
   "source": [
    "Lets discuss a **regularized linear regression** given by:\n",
    "\n",
    "$$\n",
    "\\min_w \\| \\boldsymbol{X}w-y \\|^2_2 + \\alpha \\|w\\|^2_2 \n",
    "$$"
   ]
  },
  {
   "cell_type": "markdown",
   "id": "e42fd62c",
   "metadata": {},
   "source": [
    "## 3.A\n",
    "This equation has two terms. The term on the left is the usual **linear regression error** we discussed in class.\n",
    "\n",
    "<br/>\n",
    "<div class='info'>\n",
    "\n",
    "<font size='5'>🤔</font> **Question:**  If $\\boldsymbol{X}$ is of size $100 \\times 3$,\n",
    "\n",
    "- what is the dimension of $w$?\n",
    "- what is th dimension of $y$?\n",
    "- how big is my dataset?\n",
    "\n",
    "</div>\n",
    "\n",
    "---"
   ]
  },
  {
   "cell_type": "markdown",
   "id": "65c93acb",
   "metadata": {},
   "source": []
  },
  {
   "cell_type": "markdown",
   "id": "7a326240",
   "metadata": {},
   "source": [
    "---"
   ]
  },
  {
   "cell_type": "markdown",
   "id": "f68aa56d",
   "metadata": {},
   "source": [
    "## 3.B\n",
    "\n",
    "Now for the second term!\n",
    "\n",
    "<br/>\n",
    "<div class='info'>\n",
    "\n",
    "<font size='5'>🤔</font> **Questions:** Explain in words what the second term is doing? How does having it in here **regularize** the problem?\n",
    "\n",
    "</div>\n",
    "\n",
    "<br/>\n",
    "<div class='info'>\n",
    "\n",
    "<font size='5'>☝🏽</font> **Hint:**  We gave three different explanations for this in class! \n",
    "\n",
    "</div>\n",
    "\n",
    "---"
   ]
  },
  {
   "cell_type": "markdown",
   "id": "2cb907a0",
   "metadata": {},
   "source": []
  },
  {
   "cell_type": "markdown",
   "id": "eaaf72a9",
   "metadata": {},
   "source": [
    "---"
   ]
  },
  {
   "cell_type": "markdown",
   "id": "d0c7b181",
   "metadata": {},
   "source": [
    "## 3.C\n",
    "\n",
    "In sklearn, the regularized linear regression is implemented in a class called `Ridge` in the `linear_model` module, and takes an `alpha` parameter as discussed above:"
   ]
  },
  {
   "cell_type": "code",
   "execution_count": 6,
   "id": "a8be0838",
   "metadata": {},
   "outputs": [],
   "source": [
    "from sklearn.linear_model import Ridge"
   ]
  },
  {
   "cell_type": "code",
   "execution_count": 7,
   "id": "579f63ff",
   "metadata": {},
   "outputs": [],
   "source": [
    "Ridge?"
   ]
  },
  {
   "cell_type": "markdown",
   "id": "6ddea1df",
   "metadata": {},
   "source": [
    "Lets implement this model on the same dataset above with different `alpha` values:"
   ]
  },
  {
   "cell_type": "code",
   "execution_count": 8,
   "id": "a24f1c23",
   "metadata": {},
   "outputs": [],
   "source": [
    "alphas = [1e-2,1e-1,0.5,1,5]"
   ]
  },
  {
   "cell_type": "markdown",
   "id": "608a5306",
   "metadata": {},
   "source": [
    "Type your code below:"
   ]
  },
  {
   "cell_type": "code",
   "execution_count": null,
   "id": "894c9fe7",
   "metadata": {},
   "outputs": [],
   "source": []
  },
  {
   "cell_type": "code",
   "execution_count": null,
   "id": "96abd09a",
   "metadata": {},
   "outputs": [],
   "source": []
  },
  {
   "cell_type": "code",
   "execution_count": null,
   "id": "fc89cfd0",
   "metadata": {},
   "outputs": [],
   "source": []
  },
  {
   "cell_type": "markdown",
   "id": "f45ca12d",
   "metadata": {},
   "source": [
    "## 3.D\n",
    "\n",
    "<br/>\n",
    "<div class='info'>\n",
    "\n",
    "<font size='5'>🤔</font> **Question:**  Comment on what you observe here. Which does better? Why? Does this make sense given what we've discussed in class? Why or why not? I'm not looking for a short answer here!\n",
    "\n",
    "</div>\n",
    "\n",
    "---"
   ]
  },
  {
   "cell_type": "markdown",
   "id": "2239f1ff",
   "metadata": {},
   "source": []
  },
  {
   "cell_type": "markdown",
   "id": "5eba8b42",
   "metadata": {},
   "source": [
    "---"
   ]
  },
  {
   "cell_type": "markdown",
   "id": "013cde6d",
   "metadata": {},
   "source": [
    "# Problem 4"
   ]
  },
  {
   "cell_type": "markdown",
   "id": "8a906863",
   "metadata": {},
   "source": [
    "## 4.A\n",
    "\n",
    "<br/>\n",
    "<div class='info'>\n",
    "    \n",
    "<font size='5'>🤔</font> **Question:** Explain these concepts in words:\n",
    "- underfitting\n",
    "- overfitting\n",
    "- bias\n",
    "- variance\n",
    "\n",
    "Draw a figure (draw it yourself, **not** using any code) to aid in your explanation!\n",
    "   \n",
    "</div>\n",
    "\n",
    "**Note:** Once you've drawn this figure, either on paper, or using your mouse using an online tool, etc. you can **embed it** into your notebook like this:\n",
    "\n",
    "```\n",
    "![](foldername/figurename.jpg)\n",
    "```\n",
    "\n",
    "---"
   ]
  },
  {
   "cell_type": "markdown",
   "id": "7151d5bb",
   "metadata": {},
   "source": []
  },
  {
   "cell_type": "markdown",
   "id": "8d301abc",
   "metadata": {},
   "source": []
  },
  {
   "cell_type": "markdown",
   "id": "ae0e3fe0",
   "metadata": {},
   "source": []
  },
  {
   "cell_type": "markdown",
   "id": "2be51de6",
   "metadata": {},
   "source": [
    "---"
   ]
  },
  {
   "cell_type": "markdown",
   "id": "847ca316",
   "metadata": {},
   "source": [
    "## 4.B\n",
    "\n",
    "<br/>\n",
    "<div class='info'>\n",
    "\n",
    "<font size='5'>🤔</font> **Question:**  Above, you explained waht the `C` parameter does for SVMs. Now, explain it but from the perspective of **regularization**! That is, how does it act as a regularizer for the SVM? Think about it!\n",
    "\n",
    "</div>\n",
    "\n",
    "---\n"
   ]
  },
  {
   "cell_type": "markdown",
   "id": "58bbe5a1",
   "metadata": {},
   "source": []
  },
  {
   "cell_type": "markdown",
   "id": "bf965ee9",
   "metadata": {},
   "source": [
    "---"
   ]
  },
  {
   "cell_type": "markdown",
   "id": "a62d6699",
   "metadata": {},
   "source": [
    "# Bonus\n",
    "\n",
    "How does the material we've learned so far relate to any other material you've seen before? Any similarities? Differences? \n",
    "\n",
    "If this is your first exposure to the material, then how does this relate to what you thought it was going to be before taking the class? How about what you wanted to use ML for in the future?\n",
    "\n",
    "\n",
    "- Note: I'm **not** asking about style, difficulty, or coverage in the class!\n",
    "- This question is **not a request for feedback**! \n",
    "\n",
    "It's asking you to reconcile the material we've learned in class with the other material you've learned so far in other classes/your career, or what you thought it was going to be! I'm looking for things like: \n",
    "\n",
    " - \"In class A we learned about the Bias-Variance trade-off like this, which is different than how we learned about it here. They are different in this way, they are similar in this way. I'm having a hard time seeing how they are talking about the same thing because ... etc.\n",
    " - I haven't had any previous exposure to these topics before. I didn't realize what a big deal it was to select an appropriate hypothesis space and algorithm, etc. \n",
    " - I always heard deep learning just works. But how come they don't overfit all the time? etc.\n",
    " - I'm confused about how exactly SVMs can do better than KNNs, since KNNs use distance to .... etc.\n",
    " - In my lab project we always use ___ method, but that doesn't seem to fit with what we are learning about overfitting, etc.\n",
    " \n",
    "I want you to think deeply about this question. This exercise causes you to re-evaluate what you know, in terms of what you're learning and vice-versa, often changing your interpretation of both! \n",
    "\n",
    "<br/>\n",
    "<div class='info'>\n",
    "\n",
    "<font size='5'>☝🏽</font> **Note: This bonus is \"open ended\", and I will award points based on the depth of your answer.**\n",
    "\n",
    "</div>\n"
   ]
  },
  {
   "cell_type": "markdown",
   "id": "6cb327d9",
   "metadata": {},
   "source": []
  },
  {
   "cell_type": "markdown",
   "id": "c7223278",
   "metadata": {},
   "source": []
  },
  {
   "cell_type": "markdown",
   "id": "b85102ce",
   "metadata": {},
   "source": []
  },
  {
   "cell_type": "markdown",
   "id": "1affa313",
   "metadata": {},
   "source": [
    "---"
   ]
  }
 ],
 "metadata": {
  "kernelspec": {
   "display_name": "Python 3 (ipykernel)",
   "language": "python",
   "name": "python3"
  },
  "language_info": {
   "codemirror_mode": {
    "name": "ipython",
    "version": 3
   },
   "file_extension": ".py",
   "mimetype": "text/x-python",
   "name": "python",
   "nbconvert_exporter": "python",
   "pygments_lexer": "ipython3",
   "version": "3.8.3"
  },
  "toc": {
   "base_numbering": 1,
   "nav_menu": {},
   "number_sections": false,
   "sideBar": true,
   "skip_h1_title": false,
   "title_cell": "Table of Contents",
   "title_sidebar": "Contents",
   "toc_cell": false,
   "toc_position": {
    "height": "calc(100% - 180px)",
    "left": "10px",
    "top": "150px",
    "width": "165px"
   },
   "toc_section_display": true,
   "toc_window_display": true
  }
 },
 "nbformat": 4,
 "nbformat_minor": 5
}
