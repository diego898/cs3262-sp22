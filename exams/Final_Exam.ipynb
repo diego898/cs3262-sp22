{
 "cells": [
  {
   "cell_type": "markdown",
   "id": "b1c6dfef",
   "metadata": {},
   "source": [
    "# CS 3262 - Final Exam - Spring 2022"
   ]
  },
  {
   "cell_type": "markdown",
   "id": "5586234d",
   "metadata": {},
   "source": [
    "Welcome to your final exam! \n",
    "\n",
    "Logistics:\n",
    "- Open book/open note/**no internet**\n",
    "- You are not allowed to discuss the exam with each other\n",
    "- All questions about the exam will come to me, through email. Do not send any public messages to me, or each other about the exam.\n",
    "- If there are any clarifications required, I will post them on brightspace and update this document.\n",
    "\n",
    "A note on the **kinds** of answers I expect: As is our style on HW and in class, many of these questions are open ended and are **not** asking you to repeat what you've read or heard in class. On the contrary, if I read my own words (or a texts) I will mark that down! I expect you to demonstrate your original thoughts. Almost none of these questions require 3-word answers (some do though, those should be clear by the question!). Having said that, I also don't want you to start just typing out vocabulary words that we've used in class. \n",
    "\n",
    "**Tip**: If you feel you can't answer a question, skip it and come back. Sometimes reading the entire thing will help clarify the individual parts. If all else fails, I will award partial credit for effort, and a clear explanation of what you're confused about and why. \n",
    "\n",
    "**Try and explain your confusion!**"
   ]
  },
  {
   "cell_type": "markdown",
   "id": "b2469eaf",
   "metadata": {},
   "source": [
    "## Changelog\n",
    "\n",
    "<br/>\n",
    "<div class='alert alert-info'>\n",
    "\n",
    "<font size='5'>👾</font> **Note:**  This is **version 1**, updated on 2022-05-02 at 10:00am.\n",
    "\n",
    "</div>"
   ]
  },
  {
   "cell_type": "markdown",
   "id": "46f17976",
   "metadata": {},
   "source": [
    "## Notebook Setup"
   ]
  },
  {
   "cell_type": "code",
   "execution_count": 1,
   "id": "b425c647",
   "metadata": {
    "code_folding": [
     0,
     10
    ]
   },
   "outputs": [
    {
     "data": {
      "text/html": [
       "\n",
       "    <style>\n",
       "        div.info{\n",
       "            padding: 15px; \n",
       "            border: 1px solid transparent; \n",
       "            border-left: 5px solid #dfb5b4; \n",
       "            border-color: transparent; \n",
       "            margin-bottom: 10px; \n",
       "            border-radius: 4px; \n",
       "            background-color: #fcf8e3; \n",
       "            border-color: #faebcc;\n",
       "        }\n",
       "        hr{\n",
       "            border: 1px solid;\n",
       "            border-radius: 5px;\n",
       "        }\n",
       "    </style>"
      ],
      "text/plain": [
       "<IPython.core.display.HTML object>"
      ]
     },
     "execution_count": 1,
     "metadata": {},
     "output_type": "execute_result"
    }
   ],
   "source": [
    "# imports\n",
    "import numpy as np\n",
    "import matplotlib.pyplot as plt\n",
    "colors = plt.rcParams[\"axes.prop_cycle\"].by_key()[\"color\"]\n",
    "import seaborn as sns\n",
    "import pandas as pd\n",
    "import sklearn as sk\n",
    "\n",
    "# styling additions\n",
    "from IPython.display import HTML\n",
    "style = '''\n",
    "    <style>\n",
    "        div.info{\n",
    "            padding: 15px; \n",
    "            border: 1px solid transparent; \n",
    "            border-left: 5px solid #dfb5b4; \n",
    "            border-color: transparent; \n",
    "            margin-bottom: 10px; \n",
    "            border-radius: 4px; \n",
    "            background-color: #fcf8e3; \n",
    "            border-color: #faebcc;\n",
    "        }\n",
    "        hr{\n",
    "            border: 1px solid;\n",
    "            border-radius: 5px;\n",
    "        }\n",
    "    </style>'''\n",
    "HTML(style)"
   ]
  },
  {
   "cell_type": "markdown",
   "id": "d8ce7dd6",
   "metadata": {},
   "source": [
    "On this final, I want you to use everything you've learned and try to do a simple problem from start to finish on your own!\n",
    "\n",
    "Lets use a dataset from Spotify on song popularity. Lets first modify the dataset for our final:\n",
    "\n",
    "\n",
    "# Initial Preparation"
   ]
  },
  {
   "cell_type": "code",
   "execution_count": 2,
   "id": "1a99451f",
   "metadata": {},
   "outputs": [
    {
     "data": {
      "text/plain": [
       "Index(['song_name', 'song_popularity', 'song_duration_ms', 'acousticness',\n",
       "       'danceability', 'energy', 'instrumentalness', 'key', 'liveness',\n",
       "       'loudness', 'audio_mode', 'speechiness', 'tempo', 'time_signature',\n",
       "       'audio_valence'],\n",
       "      dtype='object')"
      ]
     },
     "execution_count": 2,
     "metadata": {},
     "output_type": "execute_result"
    }
   ],
   "source": [
    "df = pd.read_csv('song_data_orig.csv')\n",
    "df.columns"
   ]
  },
  {
   "cell_type": "markdown",
   "id": "953f78ce",
   "metadata": {},
   "source": [
    "As we can see, `song_popularity` is actually a numeric column:"
   ]
  },
  {
   "cell_type": "code",
   "execution_count": 3,
   "id": "21af63a5",
   "metadata": {},
   "outputs": [
    {
     "data": {
      "image/png": "[encoded data removed]",
      "text/plain": [
       "<Figure size 432x288 with 1 Axes>"
      ]
     },
     "metadata": {
      "needs_background": "light"
     },
     "output_type": "display_data"
    }
   ],
   "source": [
    "df['song_popularity'].hist();"
   ]
  },
  {
   "cell_type": "markdown",
   "id": "3c626011",
   "metadata": {},
   "source": [
    "Lets make this a \"class label\" called `is_pop` using a threshold value of 80:"
   ]
  },
  {
   "cell_type": "code",
   "execution_count": 4,
   "id": "89131530",
   "metadata": {},
   "outputs": [],
   "source": [
    "df['is_pop'] = (df['song_popularity'] >= 80).values.astype('int')"
   ]
  },
  {
   "cell_type": "code",
   "execution_count": 5,
   "id": "5f53e214",
   "metadata": {},
   "outputs": [
    {
     "data": {
      "text/html": [
       "<div>\n",
       "<style scoped>\n",
       "    .dataframe tbody tr th:only-of-type {\n",
       "        vertical-align: middle;\n",
       "    }\n",
       "\n",
       "    .dataframe tbody tr th {\n",
       "        vertical-align: top;\n",
       "    }\n",
       "\n",
       "    .dataframe thead th {\n",
       "        text-align: right;\n",
       "    }\n",
       "</style>\n",
       "<table border=\"1\" class=\"dataframe\">\n",
       "  <thead>\n",
       "    <tr style=\"text-align: right;\">\n",
       "      <th></th>\n",
       "      <th>song_name</th>\n",
       "      <th>song_popularity</th>\n",
       "      <th>song_duration_ms</th>\n",
       "      <th>acousticness</th>\n",
       "      <th>danceability</th>\n",
       "      <th>energy</th>\n",
       "      <th>instrumentalness</th>\n",
       "      <th>key</th>\n",
       "      <th>liveness</th>\n",
       "      <th>loudness</th>\n",
       "      <th>audio_mode</th>\n",
       "      <th>speechiness</th>\n",
       "      <th>tempo</th>\n",
       "      <th>time_signature</th>\n",
       "      <th>audio_valence</th>\n",
       "      <th>is_pop</th>\n",
       "    </tr>\n",
       "  </thead>\n",
       "  <tbody>\n",
       "    <tr>\n",
       "      <th>5</th>\n",
       "      <td>Bring Me To Life</td>\n",
       "      <td>80</td>\n",
       "      <td>235893</td>\n",
       "      <td>0.008950</td>\n",
       "      <td>0.316</td>\n",
       "      <td>0.945</td>\n",
       "      <td>0.000002</td>\n",
       "      <td>4</td>\n",
       "      <td>0.3960</td>\n",
       "      <td>-3.169</td>\n",
       "      <td>0</td>\n",
       "      <td>0.1240</td>\n",
       "      <td>189.931</td>\n",
       "      <td>4</td>\n",
       "      <td>0.320</td>\n",
       "      <td>1</td>\n",
       "    </tr>\n",
       "    <tr>\n",
       "      <th>6</th>\n",
       "      <td>Last Resort</td>\n",
       "      <td>81</td>\n",
       "      <td>199893</td>\n",
       "      <td>0.000504</td>\n",
       "      <td>0.581</td>\n",
       "      <td>0.887</td>\n",
       "      <td>0.001110</td>\n",
       "      <td>4</td>\n",
       "      <td>0.2680</td>\n",
       "      <td>-3.659</td>\n",
       "      <td>0</td>\n",
       "      <td>0.0624</td>\n",
       "      <td>90.578</td>\n",
       "      <td>4</td>\n",
       "      <td>0.724</td>\n",
       "      <td>1</td>\n",
       "    </tr>\n",
       "    <tr>\n",
       "      <th>8</th>\n",
       "      <td>Mr. Brightside</td>\n",
       "      <td>80</td>\n",
       "      <td>222586</td>\n",
       "      <td>0.001080</td>\n",
       "      <td>0.330</td>\n",
       "      <td>0.936</td>\n",
       "      <td>0.000000</td>\n",
       "      <td>1</td>\n",
       "      <td>0.0926</td>\n",
       "      <td>-3.660</td>\n",
       "      <td>1</td>\n",
       "      <td>0.0917</td>\n",
       "      <td>148.112</td>\n",
       "      <td>4</td>\n",
       "      <td>0.234</td>\n",
       "      <td>1</td>\n",
       "    </tr>\n",
       "    <tr>\n",
       "      <th>9</th>\n",
       "      <td>Sex on Fire</td>\n",
       "      <td>81</td>\n",
       "      <td>203346</td>\n",
       "      <td>0.001720</td>\n",
       "      <td>0.542</td>\n",
       "      <td>0.905</td>\n",
       "      <td>0.010400</td>\n",
       "      <td>9</td>\n",
       "      <td>0.1360</td>\n",
       "      <td>-5.653</td>\n",
       "      <td>1</td>\n",
       "      <td>0.0540</td>\n",
       "      <td>153.398</td>\n",
       "      <td>4</td>\n",
       "      <td>0.374</td>\n",
       "      <td>1</td>\n",
       "    </tr>\n",
       "    <tr>\n",
       "      <th>13</th>\n",
       "      <td>Can't Stop</td>\n",
       "      <td>81</td>\n",
       "      <td>269000</td>\n",
       "      <td>0.017900</td>\n",
       "      <td>0.618</td>\n",
       "      <td>0.938</td>\n",
       "      <td>0.000000</td>\n",
       "      <td>9</td>\n",
       "      <td>0.1670</td>\n",
       "      <td>-3.442</td>\n",
       "      <td>1</td>\n",
       "      <td>0.0456</td>\n",
       "      <td>91.455</td>\n",
       "      <td>4</td>\n",
       "      <td>0.875</td>\n",
       "      <td>1</td>\n",
       "    </tr>\n",
       "    <tr>\n",
       "      <th>...</th>\n",
       "      <td>...</td>\n",
       "      <td>...</td>\n",
       "      <td>...</td>\n",
       "      <td>...</td>\n",
       "      <td>...</td>\n",
       "      <td>...</td>\n",
       "      <td>...</td>\n",
       "      <td>...</td>\n",
       "      <td>...</td>\n",
       "      <td>...</td>\n",
       "      <td>...</td>\n",
       "      <td>...</td>\n",
       "      <td>...</td>\n",
       "      <td>...</td>\n",
       "      <td>...</td>\n",
       "      <td>...</td>\n",
       "    </tr>\n",
       "    <tr>\n",
       "      <th>18671</th>\n",
       "      <td>Tie Me Down (with Elley Duhé)</td>\n",
       "      <td>84</td>\n",
       "      <td>218295</td>\n",
       "      <td>0.135000</td>\n",
       "      <td>0.548</td>\n",
       "      <td>0.839</td>\n",
       "      <td>0.000000</td>\n",
       "      <td>6</td>\n",
       "      <td>0.1020</td>\n",
       "      <td>-2.371</td>\n",
       "      <td>1</td>\n",
       "      <td>0.0644</td>\n",
       "      <td>98.932</td>\n",
       "      <td>4</td>\n",
       "      <td>0.314</td>\n",
       "      <td>1</td>\n",
       "    </tr>\n",
       "    <tr>\n",
       "      <th>18697</th>\n",
       "      <td>Magic In The Hamptons (feat. Lil Yachty)</td>\n",
       "      <td>85</td>\n",
       "      <td>164640</td>\n",
       "      <td>0.660000</td>\n",
       "      <td>0.769</td>\n",
       "      <td>0.479</td>\n",
       "      <td>0.000000</td>\n",
       "      <td>1</td>\n",
       "      <td>0.0914</td>\n",
       "      <td>-5.339</td>\n",
       "      <td>1</td>\n",
       "      <td>0.0385</td>\n",
       "      <td>96.051</td>\n",
       "      <td>4</td>\n",
       "      <td>0.803</td>\n",
       "      <td>1</td>\n",
       "    </tr>\n",
       "    <tr>\n",
       "      <th>18702</th>\n",
       "      <td>Body</td>\n",
       "      <td>86</td>\n",
       "      <td>163216</td>\n",
       "      <td>0.047600</td>\n",
       "      <td>0.752</td>\n",
       "      <td>0.764</td>\n",
       "      <td>0.000094</td>\n",
       "      <td>1</td>\n",
       "      <td>0.0543</td>\n",
       "      <td>-4.399</td>\n",
       "      <td>1</td>\n",
       "      <td>0.0380</td>\n",
       "      <td>121.958</td>\n",
       "      <td>4</td>\n",
       "      <td>0.582</td>\n",
       "      <td>1</td>\n",
       "    </tr>\n",
       "    <tr>\n",
       "      <th>18704</th>\n",
       "      <td>If You're Over Me</td>\n",
       "      <td>81</td>\n",
       "      <td>189000</td>\n",
       "      <td>0.061500</td>\n",
       "      <td>0.647</td>\n",
       "      <td>0.853</td>\n",
       "      <td>0.000000</td>\n",
       "      <td>8</td>\n",
       "      <td>0.0620</td>\n",
       "      <td>-4.516</td>\n",
       "      <td>1</td>\n",
       "      <td>0.0904</td>\n",
       "      <td>103.846</td>\n",
       "      <td>4</td>\n",
       "      <td>0.618</td>\n",
       "      <td>1</td>\n",
       "    </tr>\n",
       "    <tr>\n",
       "      <th>18734</th>\n",
       "      <td>Love Lies (with Normani)</td>\n",
       "      <td>89</td>\n",
       "      <td>201707</td>\n",
       "      <td>0.095600</td>\n",
       "      <td>0.708</td>\n",
       "      <td>0.648</td>\n",
       "      <td>0.000000</td>\n",
       "      <td>6</td>\n",
       "      <td>0.1340</td>\n",
       "      <td>-5.626</td>\n",
       "      <td>1</td>\n",
       "      <td>0.0449</td>\n",
       "      <td>143.955</td>\n",
       "      <td>4</td>\n",
       "      <td>0.338</td>\n",
       "      <td>1</td>\n",
       "    </tr>\n",
       "  </tbody>\n",
       "</table>\n",
       "<p>1701 rows × 16 columns</p>\n",
       "</div>"
      ],
      "text/plain": [
       "                                      song_name  song_popularity  \\\n",
       "5                              Bring Me To Life               80   \n",
       "6                                   Last Resort               81   \n",
       "8                                Mr. Brightside               80   \n",
       "9                                   Sex on Fire               81   \n",
       "13                                   Can't Stop               81   \n",
       "...                                         ...              ...   \n",
       "18671             Tie Me Down (with Elley Duhé)               84   \n",
       "18697  Magic In The Hamptons (feat. Lil Yachty)               85   \n",
       "18702                                      Body               86   \n",
       "18704                         If You're Over Me               81   \n",
       "18734                  Love Lies (with Normani)               89   \n",
       "\n",
       "       song_duration_ms  acousticness  danceability  energy  instrumentalness  \\\n",
       "5                235893      0.008950         0.316   0.945          0.000002   \n",
       "6                199893      0.000504         0.581   0.887          0.001110   \n",
       "8                222586      0.001080         0.330   0.936          0.000000   \n",
       "9                203346      0.001720         0.542   0.905          0.010400   \n",
       "13               269000      0.017900         0.618   0.938          0.000000   \n",
       "...                 ...           ...           ...     ...               ...   \n",
       "18671            218295      0.135000         0.548   0.839          0.000000   \n",
       "18697            164640      0.660000         0.769   0.479          0.000000   \n",
       "18702            163216      0.047600         0.752   0.764          0.000094   \n",
       "18704            189000      0.061500         0.647   0.853          0.000000   \n",
       "18734            201707      0.095600         0.708   0.648          0.000000   \n",
       "\n",
       "       key  liveness  loudness  audio_mode  speechiness    tempo  \\\n",
       "5        4    0.3960    -3.169           0       0.1240  189.931   \n",
       "6        4    0.2680    -3.659           0       0.0624   90.578   \n",
       "8        1    0.0926    -3.660           1       0.0917  148.112   \n",
       "9        9    0.1360    -5.653           1       0.0540  153.398   \n",
       "13       9    0.1670    -3.442           1       0.0456   91.455   \n",
       "...    ...       ...       ...         ...          ...      ...   \n",
       "18671    6    0.1020    -2.371           1       0.0644   98.932   \n",
       "18697    1    0.0914    -5.339           1       0.0385   96.051   \n",
       "18702    1    0.0543    -4.399           1       0.0380  121.958   \n",
       "18704    8    0.0620    -4.516           1       0.0904  103.846   \n",
       "18734    6    0.1340    -5.626           1       0.0449  143.955   \n",
       "\n",
       "       time_signature  audio_valence  is_pop  \n",
       "5                   4          0.320       1  \n",
       "6                   4          0.724       1  \n",
       "8                   4          0.234       1  \n",
       "9                   4          0.374       1  \n",
       "13                  4          0.875       1  \n",
       "...               ...            ...     ...  \n",
       "18671               4          0.314       1  \n",
       "18697               4          0.803       1  \n",
       "18702               4          0.582       1  \n",
       "18704               4          0.618       1  \n",
       "18734               4          0.338       1  \n",
       "\n",
       "[1701 rows x 16 columns]"
      ]
     },
     "execution_count": 5,
     "metadata": {},
     "output_type": "execute_result"
    }
   ],
   "source": [
    "df.query('is_pop == 1')"
   ]
  },
  {
   "cell_type": "markdown",
   "id": "c7e03f98",
   "metadata": {},
   "source": [
    "Now we have our label, so lets get rid of the `song_popularity` so we don't accidentally use it below!"
   ]
  },
  {
   "cell_type": "code",
   "execution_count": 6,
   "id": "570fe0fc",
   "metadata": {},
   "outputs": [
    {
     "data": {
      "text/plain": [
       "Index(['song_name', 'song_duration_ms', 'acousticness', 'danceability',\n",
       "       'energy', 'instrumentalness', 'key', 'liveness', 'loudness',\n",
       "       'audio_mode', 'speechiness', 'tempo', 'time_signature', 'audio_valence',\n",
       "       'is_pop'],\n",
       "      dtype='object')"
      ]
     },
     "execution_count": 6,
     "metadata": {},
     "output_type": "execute_result"
    }
   ],
   "source": [
    "df = df.drop('song_popularity',axis=1)\n",
    "df.columns"
   ]
  },
  {
   "cell_type": "markdown",
   "id": "b4ec77a9",
   "metadata": {},
   "source": [
    "Now we're ready to proceed!"
   ]
  },
  {
   "cell_type": "markdown",
   "id": "c8670996",
   "metadata": {},
   "source": [
    "# Machine Learn!\n",
    "\n",
    "\n",
    "I want you to take this dataset and create at least 4 separate models (KNN with different values of K all count as a single model) to predict the `is_pop` variable. \n",
    "\n",
    "Assess each of them separately, and then jointly at the end!"
   ]
  },
  {
   "cell_type": "markdown",
   "id": "0e49bc1f",
   "metadata": {},
   "source": [
    "# Exploratory Data Analysis (EDA)\n",
    "\n",
    "Below, conduct some EDA on this dataset. Observe your features. Are they related to each other? If so, how? If not, does that matter?\n",
    "\n",
    "\n",
    "\n",
    "**Hint:** We've been using a great particular plot for EDA in class and on our HW! \n",
    "\n",
    "**Note:** I am **not** asking for a single plot here!"
   ]
  },
  {
   "cell_type": "code",
   "execution_count": null,
   "id": "cb30b6c0",
   "metadata": {},
   "outputs": [],
   "source": []
  },
  {
   "cell_type": "code",
   "execution_count": null,
   "id": "b18a5ca4",
   "metadata": {},
   "outputs": [],
   "source": []
  },
  {
   "cell_type": "code",
   "execution_count": null,
   "id": "dc4ac393",
   "metadata": {},
   "outputs": [],
   "source": []
  },
  {
   "cell_type": "markdown",
   "id": "390cc70e",
   "metadata": {},
   "source": [
    "Now that you've done some exploration, write down your comments/observations here. What did you observe?\n",
    "\n",
    "---"
   ]
  },
  {
   "cell_type": "markdown",
   "id": "f6b8248a",
   "metadata": {},
   "source": []
  },
  {
   "cell_type": "markdown",
   "id": "a8c21a69",
   "metadata": {},
   "source": [
    "---"
   ]
  },
  {
   "cell_type": "markdown",
   "id": "eb3ccaac",
   "metadata": {},
   "source": [
    "# Prepare your dataset\n",
    "\n",
    "Using your insight from above, and in preparation of your plan below, is there anything else you need to do to \"prepare\" your dataset? \n",
    "\n",
    "Before you code it up, comment below what you will do **and why**. That is, explain why you are doing something extra to the dataset! Use the tools/techniques and concepts we learned in class!\n",
    "\n",
    "\n",
    "**Hint**: Right now, we only have a single dataset - we probably need to at least carve out a test set! \n",
    "\n",
    "**Hint**: This is **not** the only thing I expect you to do though!\n",
    "\n",
    "---"
   ]
  },
  {
   "cell_type": "markdown",
   "id": "70fddc89",
   "metadata": {},
   "source": []
  },
  {
   "cell_type": "markdown",
   "id": "c4812f29",
   "metadata": {},
   "source": [
    "---"
   ]
  },
  {
   "cell_type": "code",
   "execution_count": null,
   "id": "e1d7fcc6",
   "metadata": {},
   "outputs": [],
   "source": []
  },
  {
   "cell_type": "code",
   "execution_count": null,
   "id": "4fd4f827",
   "metadata": {},
   "outputs": [],
   "source": []
  },
  {
   "cell_type": "code",
   "execution_count": null,
   "id": "3cef05a3",
   "metadata": {},
   "outputs": [],
   "source": []
  },
  {
   "cell_type": "markdown",
   "id": "394c9f50",
   "metadata": {},
   "source": [
    "# ML Models\n",
    "\n",
    "For each of your models below, **train** and **evaluate** them! \n",
    "\n",
    "For each, write **why** you are evaluating them in a certain way, and **how** you chose a particular value for a parameter, etc. \n",
    "\n",
    "**Tip**: You **are** allowed to use the scikit learn documentation [🔗 linked here](https://scikit-learn.org/stable/index.html)!"
   ]
  },
  {
   "cell_type": "markdown",
   "id": "56c42f50",
   "metadata": {},
   "source": [
    "## Model 1 - TYPE THE MODEL NAME HERE"
   ]
  },
  {
   "cell_type": "code",
   "execution_count": null,
   "id": "cd13ab69",
   "metadata": {},
   "outputs": [],
   "source": []
  },
  {
   "cell_type": "code",
   "execution_count": null,
   "id": "e815dc73",
   "metadata": {},
   "outputs": [],
   "source": []
  },
  {
   "cell_type": "code",
   "execution_count": null,
   "id": "b983cc99",
   "metadata": {},
   "outputs": [],
   "source": []
  },
  {
   "cell_type": "markdown",
   "id": "e0268c48",
   "metadata": {},
   "source": [
    "## Model 2 - TYPE THE MODEL NAME HERE"
   ]
  },
  {
   "cell_type": "code",
   "execution_count": null,
   "id": "505ad34f",
   "metadata": {},
   "outputs": [],
   "source": []
  },
  {
   "cell_type": "code",
   "execution_count": null,
   "id": "58dc5361",
   "metadata": {},
   "outputs": [],
   "source": []
  },
  {
   "cell_type": "code",
   "execution_count": null,
   "id": "04b5e894",
   "metadata": {},
   "outputs": [],
   "source": []
  },
  {
   "cell_type": "markdown",
   "id": "ca49eeca",
   "metadata": {},
   "source": [
    "## ML Model 3 - TYPE THE MODEL NAME HERE"
   ]
  },
  {
   "cell_type": "code",
   "execution_count": null,
   "id": "70828324",
   "metadata": {},
   "outputs": [],
   "source": []
  },
  {
   "cell_type": "code",
   "execution_count": null,
   "id": "294026c9",
   "metadata": {},
   "outputs": [],
   "source": []
  },
  {
   "cell_type": "code",
   "execution_count": null,
   "id": "a6e922c3",
   "metadata": {},
   "outputs": [],
   "source": []
  },
  {
   "cell_type": "markdown",
   "id": "88152984",
   "metadata": {},
   "source": [
    "## ML Model 4 - TYPE THE MODEL NAME HERE"
   ]
  },
  {
   "cell_type": "code",
   "execution_count": null,
   "id": "098660ff",
   "metadata": {},
   "outputs": [],
   "source": []
  },
  {
   "cell_type": "code",
   "execution_count": null,
   "id": "ad4d83c7",
   "metadata": {},
   "outputs": [],
   "source": []
  },
  {
   "cell_type": "code",
   "execution_count": null,
   "id": "4dd1d9cc",
   "metadata": {},
   "outputs": [],
   "source": []
  },
  {
   "cell_type": "markdown",
   "id": "6c831157",
   "metadata": {},
   "source": [
    "# Comparison/Evaluation/Comments\n",
    "\n",
    "Here, write down your thoughts on the above 4 models.\n",
    "\n",
    "* How did they perform individually? \n",
    "* How can we compare them?\n",
    "* Which one did \"best\" and why do you think this?\n",
    "* etc.\n",
    "\n",
    "Include any figures/plots in your explanation to help your explanation!\n",
    "\n",
    "**Hint** A confusion matrix is probably a good start!"
   ]
  },
  {
   "cell_type": "markdown",
   "id": "68770551",
   "metadata": {},
   "source": [
    "---"
   ]
  },
  {
   "cell_type": "markdown",
   "id": "42f9d756",
   "metadata": {},
   "source": []
  },
  {
   "cell_type": "markdown",
   "id": "11f86486",
   "metadata": {},
   "source": [
    "---"
   ]
  },
  {
   "cell_type": "code",
   "execution_count": null,
   "id": "0e794e7c",
   "metadata": {},
   "outputs": [],
   "source": []
  },
  {
   "cell_type": "code",
   "execution_count": null,
   "id": "3dbca746",
   "metadata": {},
   "outputs": [],
   "source": []
  },
  {
   "cell_type": "code",
   "execution_count": null,
   "id": "0e72f27d",
   "metadata": {},
   "outputs": [],
   "source": []
  },
  {
   "cell_type": "markdown",
   "id": "5f99b5e2",
   "metadata": {},
   "source": [
    "# Bonus\n",
    "\n",
    "Answer as many of these as you'd like:"
   ]
  },
  {
   "cell_type": "markdown",
   "id": "d346a44e",
   "metadata": {},
   "source": [
    "## B1\n",
    "\n",
    "Explain what exactly PCA is **doing** to our dataset. How is it different than linear regression? \n",
    "\n",
    "---"
   ]
  },
  {
   "cell_type": "markdown",
   "id": "ec8b054e",
   "metadata": {},
   "source": []
  },
  {
   "cell_type": "markdown",
   "id": "b7769158",
   "metadata": {},
   "source": [
    "---"
   ]
  },
  {
   "cell_type": "markdown",
   "id": "f2aefabf",
   "metadata": {},
   "source": [
    "## B2\n",
    "\n",
    "If we were to train a NN on this dataset, how big should our input layer be? How big should your output layer be?\n",
    "\n",
    "---"
   ]
  },
  {
   "cell_type": "markdown",
   "id": "34e5ae19",
   "metadata": {},
   "source": []
  },
  {
   "cell_type": "markdown",
   "id": "56f2734c",
   "metadata": {},
   "source": [
    "---"
   ]
  }
 ],
 "metadata": {
  "kernelspec": {
   "display_name": "Python 3 (ipykernel)",
   "language": "python",
   "name": "python3"
  },
  "language_info": {
   "codemirror_mode": {
    "name": "ipython",
    "version": 3
   },
   "file_extension": ".py",
   "mimetype": "text/x-python",
   "name": "python",
   "nbconvert_exporter": "python",
   "pygments_lexer": "ipython3",
   "version": "3.8.3"
  },
  "toc": {
   "base_numbering": 1,
   "nav_menu": {},
   "number_sections": false,
   "sideBar": true,
   "skip_h1_title": false,
   "title_cell": "Table of Contents",
   "title_sidebar": "Contents",
   "toc_cell": false,
   "toc_position": {},
   "toc_section_display": true,
   "toc_window_display": true
  }
 },
 "nbformat": 4,
 "nbformat_minor": 5
}
