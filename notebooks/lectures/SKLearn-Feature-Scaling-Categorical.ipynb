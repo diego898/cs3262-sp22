{
 "cells": [
  {
   "cell_type": "markdown",
   "id": "6543720d",
   "metadata": {},
   "source": [
    "# SKLearn: Feature Scaling and Categorical Variables"
   ]
  },
  {
   "cell_type": "markdown",
   "id": "3bd8b589",
   "metadata": {},
   "source": [
    "In this notebook we will build off your [previous SKLearn notebook](SKLearn-and-KNN.ipynb) and introduce SKLearn Transformers.\n"
   ]
  },
  {
   "cell_type": "markdown",
   "id": "56a8278a",
   "metadata": {},
   "source": [
    "## Notebook setup"
   ]
  },
  {
   "cell_type": "code",
   "execution_count": 1,
   "id": "eae8d523",
   "metadata": {
    "code_folding": [
     8,
     9
    ]
   },
   "outputs": [
    {
     "data": {
      "text/html": [
       "\n",
       "    <style>\n",
       "        div.info{\n",
       "            padding: 15px; \n",
       "            border: 1px solid transparent; \n",
       "            border-left: 5px solid #dfb5b4; \n",
       "            border-color: transparent; \n",
       "            margin-bottom: 10px; \n",
       "            border-radius: 4px; \n",
       "            background-color: #fcf8e3; \n",
       "            border-color: #faebcc;\n",
       "        }\n",
       "        hr{\n",
       "            border: 1px solid;\n",
       "            border-radius: 5px;\n",
       "        }\n",
       "    </style>"
      ],
      "text/plain": [
       "<IPython.core.display.HTML object>"
      ]
     },
     "execution_count": 1,
     "metadata": {},
     "output_type": "execute_result"
    }
   ],
   "source": [
    "import pandas as pd\n",
    "import numpy as np\n",
    "import matplotlib.pyplot as plt\n",
    "import seaborn as sns\n",
    "sns.set_palette('muted')\n",
    "\n",
    "# styling additions\n",
    "from IPython.display import HTML\n",
    "style = '''\n",
    "    <style>\n",
    "        div.info{\n",
    "            padding: 15px; \n",
    "            border: 1px solid transparent; \n",
    "            border-left: 5px solid #dfb5b4; \n",
    "            border-color: transparent; \n",
    "            margin-bottom: 10px; \n",
    "            border-radius: 4px; \n",
    "            background-color: #fcf8e3; \n",
    "            border-color: #faebcc;\n",
    "        }\n",
    "        hr{\n",
    "            border: 1px solid;\n",
    "            border-radius: 5px;\n",
    "        }\n",
    "    </style>'''\n",
    "HTML(style)"
   ]
  },
  {
   "cell_type": "markdown",
   "id": "19db91ae",
   "metadata": {},
   "source": [
    "# Load in Data\n",
    "\n",
    "We will continue with the `iris` dataset from the last lecture"
   ]
  },
  {
   "cell_type": "code",
   "execution_count": 2,
   "id": "b25cd588",
   "metadata": {},
   "outputs": [
    {
     "data": {
      "text/html": [
       "<div>\n",
       "<style scoped>\n",
       "    .dataframe tbody tr th:only-of-type {\n",
       "        vertical-align: middle;\n",
       "    }\n",
       "\n",
       "    .dataframe tbody tr th {\n",
       "        vertical-align: top;\n",
       "    }\n",
       "\n",
       "    .dataframe thead th {\n",
       "        text-align: right;\n",
       "    }\n",
       "</style>\n",
       "<table border=\"1\" class=\"dataframe\">\n",
       "  <thead>\n",
       "    <tr style=\"text-align: right;\">\n",
       "      <th></th>\n",
       "      <th>sepal length (cm)</th>\n",
       "      <th>sepal width (cm)</th>\n",
       "      <th>petal length (cm)</th>\n",
       "      <th>petal width (cm)</th>\n",
       "    </tr>\n",
       "  </thead>\n",
       "  <tbody>\n",
       "    <tr>\n",
       "      <th>0</th>\n",
       "      <td>5.1</td>\n",
       "      <td>3.5</td>\n",
       "      <td>1.4</td>\n",
       "      <td>0.2</td>\n",
       "    </tr>\n",
       "    <tr>\n",
       "      <th>1</th>\n",
       "      <td>4.9</td>\n",
       "      <td>3.0</td>\n",
       "      <td>1.4</td>\n",
       "      <td>0.2</td>\n",
       "    </tr>\n",
       "    <tr>\n",
       "      <th>2</th>\n",
       "      <td>4.7</td>\n",
       "      <td>3.2</td>\n",
       "      <td>1.3</td>\n",
       "      <td>0.2</td>\n",
       "    </tr>\n",
       "    <tr>\n",
       "      <th>3</th>\n",
       "      <td>4.6</td>\n",
       "      <td>3.1</td>\n",
       "      <td>1.5</td>\n",
       "      <td>0.2</td>\n",
       "    </tr>\n",
       "    <tr>\n",
       "      <th>4</th>\n",
       "      <td>5.0</td>\n",
       "      <td>3.6</td>\n",
       "      <td>1.4</td>\n",
       "      <td>0.2</td>\n",
       "    </tr>\n",
       "    <tr>\n",
       "      <th>...</th>\n",
       "      <td>...</td>\n",
       "      <td>...</td>\n",
       "      <td>...</td>\n",
       "      <td>...</td>\n",
       "    </tr>\n",
       "    <tr>\n",
       "      <th>145</th>\n",
       "      <td>6.7</td>\n",
       "      <td>3.0</td>\n",
       "      <td>5.2</td>\n",
       "      <td>2.3</td>\n",
       "    </tr>\n",
       "    <tr>\n",
       "      <th>146</th>\n",
       "      <td>6.3</td>\n",
       "      <td>2.5</td>\n",
       "      <td>5.0</td>\n",
       "      <td>1.9</td>\n",
       "    </tr>\n",
       "    <tr>\n",
       "      <th>147</th>\n",
       "      <td>6.5</td>\n",
       "      <td>3.0</td>\n",
       "      <td>5.2</td>\n",
       "      <td>2.0</td>\n",
       "    </tr>\n",
       "    <tr>\n",
       "      <th>148</th>\n",
       "      <td>6.2</td>\n",
       "      <td>3.4</td>\n",
       "      <td>5.4</td>\n",
       "      <td>2.3</td>\n",
       "    </tr>\n",
       "    <tr>\n",
       "      <th>149</th>\n",
       "      <td>5.9</td>\n",
       "      <td>3.0</td>\n",
       "      <td>5.1</td>\n",
       "      <td>1.8</td>\n",
       "    </tr>\n",
       "  </tbody>\n",
       "</table>\n",
       "<p>150 rows × 4 columns</p>\n",
       "</div>"
      ],
      "text/plain": [
       "     sepal length (cm)  sepal width (cm)  petal length (cm)  petal width (cm)\n",
       "0                  5.1               3.5                1.4               0.2\n",
       "1                  4.9               3.0                1.4               0.2\n",
       "2                  4.7               3.2                1.3               0.2\n",
       "3                  4.6               3.1                1.5               0.2\n",
       "4                  5.0               3.6                1.4               0.2\n",
       "..                 ...               ...                ...               ...\n",
       "145                6.7               3.0                5.2               2.3\n",
       "146                6.3               2.5                5.0               1.9\n",
       "147                6.5               3.0                5.2               2.0\n",
       "148                6.2               3.4                5.4               2.3\n",
       "149                5.9               3.0                5.1               1.8\n",
       "\n",
       "[150 rows x 4 columns]"
      ]
     },
     "execution_count": 2,
     "metadata": {},
     "output_type": "execute_result"
    }
   ],
   "source": [
    "from sklearn.datasets import load_iris\n",
    "iris = load_iris(as_frame=True)   # recall - returns a Bunch object\n",
    "iris_df = iris.data\n",
    "iris_df"
   ]
  },
  {
   "cell_type": "markdown",
   "id": "4a8ead64",
   "metadata": {},
   "source": [
    "Lets make some slight additions to it here, which will help us do some demonstrations below.\n",
    "\n",
    "I'm going to:\n",
    "- add the class label here under `species`\n",
    "- make up a random new \"feature\" which is the `size` of the flower\n",
    "- drop some random values"
   ]
  },
  {
   "cell_type": "code",
   "execution_count": 3,
   "id": "02c16f14",
   "metadata": {
    "code_folding": [
     0
    ]
   },
   "outputs": [],
   "source": [
    "# adding class names\n",
    "iris_df['species'] = iris.target\n",
    "label_name_dict = {val:key for key,val in zip(iris.target_names,range(3))}\n",
    "iris_df['species'] = iris_df['species'].map(label_name_dict)\n",
    "\n",
    "# random size feature\n",
    "iris_df['size'] = np.random.choice(['S','M','XXL'], size=150)\n",
    "iris_df['color'] = np.random.choice(['green','blue','red'], size=150)\n",
    "\n",
    "# blanking out some random data\n",
    "iris_df['petal length (cm)'] = iris_df['petal length (cm)']*np.random.choice([np.nan,1],size=150,p=[0.2,0.8])\n",
    "iris_df['petal width (cm)'] = iris_df['petal width (cm)']*np.random.choice([np.nan,1],size=150,p=[0.2,0.8])"
   ]
  },
  {
   "cell_type": "markdown",
   "id": "68e520d3",
   "metadata": {},
   "source": [
    "Now it looks like this:"
   ]
  },
  {
   "cell_type": "code",
   "execution_count": 4,
   "id": "0f612e83",
   "metadata": {},
   "outputs": [
    {
     "data": {
      "text/html": [
       "<div>\n",
       "<style scoped>\n",
       "    .dataframe tbody tr th:only-of-type {\n",
       "        vertical-align: middle;\n",
       "    }\n",
       "\n",
       "    .dataframe tbody tr th {\n",
       "        vertical-align: top;\n",
       "    }\n",
       "\n",
       "    .dataframe thead th {\n",
       "        text-align: right;\n",
       "    }\n",
       "</style>\n",
       "<table border=\"1\" class=\"dataframe\">\n",
       "  <thead>\n",
       "    <tr style=\"text-align: right;\">\n",
       "      <th></th>\n",
       "      <th>sepal length (cm)</th>\n",
       "      <th>sepal width (cm)</th>\n",
       "      <th>petal length (cm)</th>\n",
       "      <th>petal width (cm)</th>\n",
       "      <th>species</th>\n",
       "      <th>size</th>\n",
       "      <th>color</th>\n",
       "    </tr>\n",
       "  </thead>\n",
       "  <tbody>\n",
       "    <tr>\n",
       "      <th>0</th>\n",
       "      <td>5.1</td>\n",
       "      <td>3.5</td>\n",
       "      <td>1.4</td>\n",
       "      <td>0.2</td>\n",
       "      <td>setosa</td>\n",
       "      <td>XXL</td>\n",
       "      <td>red</td>\n",
       "    </tr>\n",
       "    <tr>\n",
       "      <th>1</th>\n",
       "      <td>4.9</td>\n",
       "      <td>3.0</td>\n",
       "      <td>1.4</td>\n",
       "      <td>0.2</td>\n",
       "      <td>setosa</td>\n",
       "      <td>M</td>\n",
       "      <td>green</td>\n",
       "    </tr>\n",
       "    <tr>\n",
       "      <th>2</th>\n",
       "      <td>4.7</td>\n",
       "      <td>3.2</td>\n",
       "      <td>1.3</td>\n",
       "      <td>0.2</td>\n",
       "      <td>setosa</td>\n",
       "      <td>M</td>\n",
       "      <td>blue</td>\n",
       "    </tr>\n",
       "    <tr>\n",
       "      <th>3</th>\n",
       "      <td>4.6</td>\n",
       "      <td>3.1</td>\n",
       "      <td>1.5</td>\n",
       "      <td>NaN</td>\n",
       "      <td>setosa</td>\n",
       "      <td>S</td>\n",
       "      <td>green</td>\n",
       "    </tr>\n",
       "    <tr>\n",
       "      <th>4</th>\n",
       "      <td>5.0</td>\n",
       "      <td>3.6</td>\n",
       "      <td>1.4</td>\n",
       "      <td>0.2</td>\n",
       "      <td>setosa</td>\n",
       "      <td>M</td>\n",
       "      <td>blue</td>\n",
       "    </tr>\n",
       "    <tr>\n",
       "      <th>...</th>\n",
       "      <td>...</td>\n",
       "      <td>...</td>\n",
       "      <td>...</td>\n",
       "      <td>...</td>\n",
       "      <td>...</td>\n",
       "      <td>...</td>\n",
       "      <td>...</td>\n",
       "    </tr>\n",
       "    <tr>\n",
       "      <th>145</th>\n",
       "      <td>6.7</td>\n",
       "      <td>3.0</td>\n",
       "      <td>5.2</td>\n",
       "      <td>2.3</td>\n",
       "      <td>virginica</td>\n",
       "      <td>XXL</td>\n",
       "      <td>green</td>\n",
       "    </tr>\n",
       "    <tr>\n",
       "      <th>146</th>\n",
       "      <td>6.3</td>\n",
       "      <td>2.5</td>\n",
       "      <td>5.0</td>\n",
       "      <td>1.9</td>\n",
       "      <td>virginica</td>\n",
       "      <td>M</td>\n",
       "      <td>blue</td>\n",
       "    </tr>\n",
       "    <tr>\n",
       "      <th>147</th>\n",
       "      <td>6.5</td>\n",
       "      <td>3.0</td>\n",
       "      <td>5.2</td>\n",
       "      <td>2.0</td>\n",
       "      <td>virginica</td>\n",
       "      <td>XXL</td>\n",
       "      <td>red</td>\n",
       "    </tr>\n",
       "    <tr>\n",
       "      <th>148</th>\n",
       "      <td>6.2</td>\n",
       "      <td>3.4</td>\n",
       "      <td>NaN</td>\n",
       "      <td>2.3</td>\n",
       "      <td>virginica</td>\n",
       "      <td>M</td>\n",
       "      <td>blue</td>\n",
       "    </tr>\n",
       "    <tr>\n",
       "      <th>149</th>\n",
       "      <td>5.9</td>\n",
       "      <td>3.0</td>\n",
       "      <td>5.1</td>\n",
       "      <td>1.8</td>\n",
       "      <td>virginica</td>\n",
       "      <td>XXL</td>\n",
       "      <td>blue</td>\n",
       "    </tr>\n",
       "  </tbody>\n",
       "</table>\n",
       "<p>150 rows × 7 columns</p>\n",
       "</div>"
      ],
      "text/plain": [
       "     sepal length (cm)  sepal width (cm)  petal length (cm)  petal width (cm)  \\\n",
       "0                  5.1               3.5                1.4               0.2   \n",
       "1                  4.9               3.0                1.4               0.2   \n",
       "2                  4.7               3.2                1.3               0.2   \n",
       "3                  4.6               3.1                1.5               NaN   \n",
       "4                  5.0               3.6                1.4               0.2   \n",
       "..                 ...               ...                ...               ...   \n",
       "145                6.7               3.0                5.2               2.3   \n",
       "146                6.3               2.5                5.0               1.9   \n",
       "147                6.5               3.0                5.2               2.0   \n",
       "148                6.2               3.4                NaN               2.3   \n",
       "149                5.9               3.0                5.1               1.8   \n",
       "\n",
       "       species size  color  \n",
       "0       setosa  XXL    red  \n",
       "1       setosa    M  green  \n",
       "2       setosa    M   blue  \n",
       "3       setosa    S  green  \n",
       "4       setosa    M   blue  \n",
       "..         ...  ...    ...  \n",
       "145  virginica  XXL  green  \n",
       "146  virginica    M   blue  \n",
       "147  virginica  XXL    red  \n",
       "148  virginica    M   blue  \n",
       "149  virginica  XXL   blue  \n",
       "\n",
       "[150 rows x 7 columns]"
      ]
     },
     "execution_count": 4,
     "metadata": {},
     "output_type": "execute_result"
    }
   ],
   "source": [
    "iris_df"
   ]
  },
  {
   "cell_type": "markdown",
   "id": "a996cd4f",
   "metadata": {},
   "source": [
    "# Feature Scaling\n",
    "\n",
    "As we saw at the end of the last notebook, if our features are on different 'scales', we must think about what this means and whether or not we want this to be the case. Some methods in ML wont care about the scales, some will. \n",
    "\n",
    "Some numerical methods, like **gradient descent** work better when our dataset has been 'scaled'. \n",
    "\n",
    "There are **many** different ways to \"scale\" your data, but two of the most common ones are:\n",
    "- min/max scaling\n",
    "- standardizing/normalizing/z-scoring"
   ]
  },
  {
   "cell_type": "markdown",
   "id": "0d289b16",
   "metadata": {},
   "source": [
    "## Min/Max scaling"
   ]
  },
  {
   "cell_type": "markdown",
   "id": "a99d1f64",
   "metadata": {},
   "source": [
    "<br/>\n",
    "<div class='info'>\n",
    "\n",
    "<font size='5'>📖</font> **Definition:**  min/max scaling your dataset *maps* your dataset onto the range $(0,1)$ by:\n",
    "    \n",
    "$$\n",
    "\\boldsymbol{x}_{\\text{norm}} = \\frac{\\boldsymbol{x} - x_{\\text{min}} }{ x_{\\text{max}} - x_{\\text{min}} }\n",
    "$$\n",
    "\n",
    "</div>\n"
   ]
  },
  {
   "cell_type": "markdown",
   "id": "9b4304a6",
   "metadata": {},
   "source": [
    "Lets take a look at this piece by piece:"
   ]
  },
  {
   "cell_type": "code",
   "execution_count": 5,
   "id": "da0e9fe5",
   "metadata": {},
   "outputs": [
    {
     "data": {
      "text/plain": [
       "array([20, 21, 22, 23, 24, 25, 26, 27, 28, 29, 30, 31, 32, 33, 34, 35, 36])"
      ]
     },
     "execution_count": 5,
     "metadata": {},
     "output_type": "execute_result"
    }
   ],
   "source": [
    "x = np.arange(20,37)\n",
    "x"
   ]
  },
  {
   "cell_type": "code",
   "execution_count": 6,
   "id": "0e45c014",
   "metadata": {},
   "outputs": [
    {
     "data": {
      "text/plain": [
       "array([ 0,  1,  2,  3,  4,  5,  6,  7,  8,  9, 10, 11, 12, 13, 14, 15, 16])"
      ]
     },
     "execution_count": 6,
     "metadata": {},
     "output_type": "execute_result"
    }
   ],
   "source": [
    "x - x.min()"
   ]
  },
  {
   "cell_type": "code",
   "execution_count": 7,
   "id": "2f2b3267",
   "metadata": {},
   "outputs": [
    {
     "data": {
      "text/plain": [
       "16"
      ]
     },
     "execution_count": 7,
     "metadata": {},
     "output_type": "execute_result"
    }
   ],
   "source": [
    "x.max() - x.min()"
   ]
  },
  {
   "cell_type": "code",
   "execution_count": 8,
   "id": "dd79788e",
   "metadata": {},
   "outputs": [
    {
     "data": {
      "text/plain": [
       "array([0.    , 0.0625, 0.125 , 0.1875, 0.25  , 0.3125, 0.375 , 0.4375,\n",
       "       0.5   , 0.5625, 0.625 , 0.6875, 0.75  , 0.8125, 0.875 , 0.9375,\n",
       "       1.    ])"
      ]
     },
     "execution_count": 8,
     "metadata": {},
     "output_type": "execute_result"
    }
   ],
   "source": [
    "x_norm = (x - x.min()) / (x.max() - x.min())\n",
    "x_norm"
   ]
  },
  {
   "cell_type": "markdown",
   "id": "7d7b1ce7",
   "metadata": {},
   "source": [
    "Lets try this with a feature in our dataset. \n",
    "\n",
    "Lets first note what its like originally:"
   ]
  },
  {
   "cell_type": "code",
   "execution_count": 9,
   "id": "8b6ad38c",
   "metadata": {},
   "outputs": [
    {
     "data": {
      "image/png": "[encoded data removed]",
      "text/plain": [
       "<Figure size 432x288 with 1 Axes>"
      ]
     },
     "metadata": {
      "needs_background": "light"
     },
     "output_type": "display_data"
    }
   ],
   "source": [
    "iris_df.iloc[:,1].hist();"
   ]
  },
  {
   "cell_type": "markdown",
   "id": "11602de2",
   "metadata": {},
   "source": [
    "Ok lets now shift it over:"
   ]
  },
  {
   "cell_type": "code",
   "execution_count": 10,
   "id": "2c12dc48",
   "metadata": {},
   "outputs": [
    {
     "data": {
      "image/png": "[encoded data removed]",
      "text/plain": [
       "<Figure size 432x288 with 1 Axes>"
      ]
     },
     "metadata": {
      "needs_background": "light"
     },
     "output_type": "display_data"
    }
   ],
   "source": [
    "min_val = iris_df.iloc[:,1].min()\n",
    "max_val = iris_df.iloc[:,1].max()\n",
    "norm_vals = (iris_df.iloc[:,1] - min_val) / (max_val - min_val)\n",
    "norm_vals.hist();"
   ]
  },
  {
   "cell_type": "markdown",
   "id": "0d0f90c3",
   "metadata": {},
   "source": [
    "What has changed?! Lets see them both together:"
   ]
  },
  {
   "cell_type": "code",
   "execution_count": 11,
   "id": "041f7e6a",
   "metadata": {},
   "outputs": [
    {
     "data": {
      "image/png": "[encoded data removed]",
      "text/plain": [
       "<Figure size 432x288 with 1 Axes>"
      ]
     },
     "metadata": {
      "needs_background": "light"
     },
     "output_type": "display_data"
    }
   ],
   "source": [
    "iris_df.iloc[:,1].hist();\n",
    "norm_vals.hist();"
   ]
  },
  {
   "cell_type": "markdown",
   "id": "4d0d8ffb",
   "metadata": {},
   "source": [
    "Hm. Lets separate out the x-axis to verify:"
   ]
  },
  {
   "cell_type": "code",
   "execution_count": 12,
   "id": "ae5f75ed",
   "metadata": {},
   "outputs": [
    {
     "data": {
      "image/png": "[encoded data removed]",
      "text/plain": [
       "<Figure size 432x288 with 2 Axes>"
      ]
     },
     "metadata": {
      "needs_background": "light"
     },
     "output_type": "display_data"
    }
   ],
   "source": [
    "fig, (ax1,ax2) = plt.subplots(1,2)\n",
    "iris_df.iloc[:,1].hist(ax=ax1);\n",
    "norm_vals.hist(ax=ax2);"
   ]
  },
  {
   "cell_type": "markdown",
   "id": "28e8c4f4",
   "metadata": {},
   "source": [
    "<br/>\n",
    "<div class='info'>\n",
    "\n",
    "<font size='5'>🤔</font> **Pause-and-Ponder:**  What do we conclude? Comment below!\n",
    "\n",
    "</div>\n",
    "\n",
    "---"
   ]
  },
  {
   "cell_type": "markdown",
   "id": "33f41a04",
   "metadata": {},
   "source": []
  },
  {
   "cell_type": "markdown",
   "id": "fd7bfb8c",
   "metadata": {},
   "source": [
    "---"
   ]
  },
  {
   "cell_type": "markdown",
   "id": "ee7f450a",
   "metadata": {},
   "source": [
    "### Try it!\n",
    "\n",
    "<br/>\n",
    "<div class='info'>\n",
    "\n",
    "<font size='5'>⌨️</font> **CODE IT UP:**  Below, try it yourself on a different column of the `iris` dataset:\n",
    "\n",
    "</div>\n",
    "\n",
    "---\n"
   ]
  },
  {
   "cell_type": "code",
   "execution_count": null,
   "id": "78657742",
   "metadata": {},
   "outputs": [],
   "source": []
  },
  {
   "cell_type": "code",
   "execution_count": null,
   "id": "160c213b",
   "metadata": {},
   "outputs": [],
   "source": []
  },
  {
   "cell_type": "code",
   "execution_count": null,
   "id": "96e2eda8",
   "metadata": {},
   "outputs": [],
   "source": []
  },
  {
   "cell_type": "markdown",
   "id": "1b831008",
   "metadata": {},
   "source": [
    "---"
   ]
  },
  {
   "cell_type": "markdown",
   "id": "802cfa88",
   "metadata": {},
   "source": [
    "## Standardization/Normalization"
   ]
  },
  {
   "cell_type": "markdown",
   "id": "8f997e23",
   "metadata": {},
   "source": [
    "\"Standardizing\" or \"Normalizing\" or \"Z-scoring\" our data is very useful when working with certain optimization methods (e.g., gradient descent) or certain ML methods.\n",
    "\n",
    "After **standardizing** a feature, it will have:\n",
    "- unit variance \n",
    "- zero mean \n",
    "\n",
    "<div class='alert alert-block alert-danger'>\n",
    "\n",
    "<font size='5'>⚠️</font> **Note:** This does **not** transform a feature from not following a normal distribution to a normal distributed one! \n",
    "\n",
    "</div>\n",
    "\n",
    "\n",
    "<br/>\n",
    "<div class='info'>\n",
    "\n",
    "<font size='5'>📖</font> **Definition:**  To **standardize/normalize** a feature, you subtract its sample-mean, and divide by its sample-variance:\n",
    "    \n",
    "$$\n",
    "\\boldsymbol{x}_{\\text{std}} = \\frac{\\boldsymbol{x} - \\mu_x }{ \\sigma_{x} }\n",
    "$$\n",
    "\n",
    "</div>"
   ]
  },
  {
   "cell_type": "markdown",
   "id": "8e822cd5",
   "metadata": {},
   "source": [
    "As above, lets take a look at this piece by piece"
   ]
  },
  {
   "cell_type": "code",
   "execution_count": 13,
   "id": "a16cda0d",
   "metadata": {},
   "outputs": [
    {
     "data": {
      "text/plain": [
       "array([20, 21, 22, 23, 24, 25, 26, 27, 28, 29, 30, 31, 32, 33, 34, 35, 36])"
      ]
     },
     "execution_count": 13,
     "metadata": {},
     "output_type": "execute_result"
    }
   ],
   "source": [
    "x = np.arange(20,37)\n",
    "x"
   ]
  },
  {
   "cell_type": "code",
   "execution_count": 14,
   "id": "7159e97f",
   "metadata": {},
   "outputs": [
    {
     "data": {
      "text/plain": [
       "array([-8., -7., -6., -5., -4., -3., -2., -1.,  0.,  1.,  2.,  3.,  4.,\n",
       "        5.,  6.,  7.,  8.])"
      ]
     },
     "execution_count": 14,
     "metadata": {},
     "output_type": "execute_result"
    }
   ],
   "source": [
    "x - x.mean()"
   ]
  },
  {
   "cell_type": "code",
   "execution_count": 15,
   "id": "46b639e9",
   "metadata": {},
   "outputs": [
    {
     "data": {
      "text/plain": [
       "array([-1.63299316, -1.42886902, -1.22474487, -1.02062073, -0.81649658,\n",
       "       -0.61237244, -0.40824829, -0.20412415,  0.        ,  0.20412415,\n",
       "        0.40824829,  0.61237244,  0.81649658,  1.02062073,  1.22474487,\n",
       "        1.42886902,  1.63299316])"
      ]
     },
     "execution_count": 15,
     "metadata": {},
     "output_type": "execute_result"
    }
   ],
   "source": [
    "x_std = (x - x.mean()) / x.std()\n",
    "x_std"
   ]
  },
  {
   "cell_type": "markdown",
   "id": "825079aa",
   "metadata": {},
   "source": [
    "As above, lets try this with a feature in our dataset. "
   ]
  },
  {
   "cell_type": "code",
   "execution_count": 16,
   "id": "10a244a8",
   "metadata": {},
   "outputs": [
    {
     "data": {
      "image/png": "[encoded data removed]",
      "text/plain": [
       "<Figure size 432x288 with 1 Axes>"
      ]
     },
     "metadata": {
      "needs_background": "light"
     },
     "output_type": "display_data"
    }
   ],
   "source": [
    "iris_df.iloc[:,1].hist();"
   ]
  },
  {
   "cell_type": "code",
   "execution_count": 17,
   "id": "4c91fc3f",
   "metadata": {},
   "outputs": [
    {
     "data": {
      "image/png": "[encoded data removed]",
      "text/plain": [
       "<Figure size 432x288 with 1 Axes>"
      ]
     },
     "metadata": {
      "needs_background": "light"
     },
     "output_type": "display_data"
    }
   ],
   "source": [
    "mean = iris_df.iloc[:,1].mean()\n",
    "std = iris_df.iloc[:,1].std()\n",
    "std_vals = (iris_df.iloc[:,1] - mean) / (std)\n",
    "std_vals.hist();"
   ]
  },
  {
   "cell_type": "code",
   "execution_count": 18,
   "id": "651ad027",
   "metadata": {},
   "outputs": [
    {
     "data": {
      "image/png": "[encoded data removed]",
      "text/plain": [
       "<Figure size 432x288 with 1 Axes>"
      ]
     },
     "metadata": {
      "needs_background": "light"
     },
     "output_type": "display_data"
    }
   ],
   "source": [
    "iris_df.iloc[:,1].hist();\n",
    "std_vals.hist();"
   ]
  },
  {
   "cell_type": "code",
   "execution_count": 19,
   "id": "9325e32b",
   "metadata": {},
   "outputs": [
    {
     "data": {
      "image/png": "[encoded data removed]",
      "text/plain": [
       "<Figure size 576x288 with 3 Axes>"
      ]
     },
     "metadata": {
      "needs_background": "light"
     },
     "output_type": "display_data"
    }
   ],
   "source": [
    "fig, (ax1,ax2,ax3) = plt.subplots(1,3,figsize=(8,4))\n",
    "iris_df.iloc[:,1].hist(ax=ax1);\n",
    "ax1.set_title('original')\n",
    "norm_vals.hist(ax=ax2)\n",
    "ax2.set_title('max/min scaled')\n",
    "std_vals.hist(ax=ax3);\n",
    "ax3.set_title('normalized');"
   ]
  },
  {
   "cell_type": "markdown",
   "id": "2483f0d0",
   "metadata": {},
   "source": [
    "### Try it!\n",
    "\n",
    "<br/>\n",
    "<div class='info'>\n",
    "\n",
    "<font size='5'>⌨️</font> **CODE IT UP:**  Below, try it yourself on a different column of the `iris` dataset:\n",
    "\n",
    "</div>\n",
    "\n",
    "---"
   ]
  },
  {
   "cell_type": "code",
   "execution_count": null,
   "id": "e1f8b39e",
   "metadata": {},
   "outputs": [],
   "source": []
  },
  {
   "cell_type": "code",
   "execution_count": null,
   "id": "c9a1b7e8",
   "metadata": {},
   "outputs": [],
   "source": []
  },
  {
   "cell_type": "code",
   "execution_count": null,
   "id": "86876553",
   "metadata": {},
   "outputs": [],
   "source": []
  },
  {
   "cell_type": "markdown",
   "id": "284821c8",
   "metadata": {},
   "source": [
    "---"
   ]
  },
  {
   "cell_type": "markdown",
   "id": "49e9c08b",
   "metadata": {},
   "source": [
    "# SKLearn Transformers"
   ]
  },
  {
   "cell_type": "markdown",
   "id": "e520b6a9",
   "metadata": {},
   "source": [
    "SKLearn provides utility objects called **Transformers** which make these operations very easy for us:\n",
    "\n",
    "![](../assets/sk-transformers.jpg)"
   ]
  },
  {
   "cell_type": "markdown",
   "id": "75a67ba6",
   "metadata": {},
   "source": [
    "We can do this ourselves, but these transformer objects will let us easily assemble \"pipelines\" later on."
   ]
  },
  {
   "cell_type": "code",
   "execution_count": 20,
   "id": "49a15a04",
   "metadata": {},
   "outputs": [],
   "source": [
    "X = iris_df.iloc[:,:4]"
   ]
  },
  {
   "cell_type": "markdown",
   "id": "1d468e5c",
   "metadata": {},
   "source": [
    "First the `MinMaxScaler`:"
   ]
  },
  {
   "cell_type": "code",
   "execution_count": 21,
   "id": "1d074bc3",
   "metadata": {},
   "outputs": [
    {
     "data": {
      "text/plain": [
       "array([[0.22222222, 0.625     , 0.07017544, 0.04166667],\n",
       "       [0.16666667, 0.41666667, 0.07017544, 0.04166667],\n",
       "       [0.11111111, 0.5       , 0.05263158, 0.04166667],\n",
       "       [0.08333333, 0.45833333, 0.0877193 ,        nan],\n",
       "       [0.19444444, 0.66666667, 0.07017544, 0.04166667]])"
      ]
     },
     "execution_count": 21,
     "metadata": {},
     "output_type": "execute_result"
    }
   ],
   "source": [
    "from sklearn.preprocessing import MinMaxScaler\n",
    "minmax_scaler = MinMaxScaler()\n",
    "X_scaled = minmax_scaler.fit(X).transform(X)\n",
    "X_scaled[:5,:]"
   ]
  },
  {
   "cell_type": "markdown",
   "id": "5270136a",
   "metadata": {},
   "source": [
    "And now the `StandardScaler`:"
   ]
  },
  {
   "cell_type": "code",
   "execution_count": 22,
   "id": "93b96811",
   "metadata": {},
   "outputs": [
    {
     "data": {
      "text/plain": [
       "array([[-0.90068117,  1.01900435, -1.27975134, -1.35886473],\n",
       "       [-1.14301691, -0.13197948, -1.27975134, -1.35886473],\n",
       "       [-1.38535265,  0.32841405, -1.33605324, -1.35886473],\n",
       "       [-1.50652052,  0.09821729, -1.22344943,         nan],\n",
       "       [-1.02184904,  1.24920112, -1.27975134, -1.35886473]])"
      ]
     },
     "execution_count": 22,
     "metadata": {},
     "output_type": "execute_result"
    }
   ],
   "source": [
    "from sklearn.preprocessing import StandardScaler\n",
    "std_scaler = StandardScaler()\n",
    "X_std = std_scaler.fit(X).transform(X)\n",
    "X_std[:5,:]"
   ]
  },
  {
   "cell_type": "markdown",
   "id": "2571f75f",
   "metadata": {},
   "source": [
    "---"
   ]
  },
  {
   "cell_type": "markdown",
   "id": "f4396503",
   "metadata": {},
   "source": [
    "# Dealing with Categorical Data:\n",
    "\n",
    "\n",
    "When we preprocess a dataset as input to a machine learning algorithm, **we have to be careful how we treat categorical variables.**\n",
    "\n",
    "<br/>\n",
    "<div class='info'>\n",
    "\n",
    "<font size='5'>📖</font> **Definition:**  A **categorical variable** is a \"non-numeric\" variable from a finite list of possibilities. There are two broad categories of categorical variables:\n",
    "- nominal (no order implied) and \n",
    "- ordinal (order implied).\n",
    "\n",
    "</div>\n",
    "\n",
    "\n",
    "<br/>\n",
    "<div class='info'>\n",
    "\n",
    "<font size='5'>☝🏽</font> **Note:**  The \"non-numeric\" here is used very loosely. As \"0,1,2\" could be a category. \n",
    "\n",
    "</div>\n",
    "\n",
    "\n",
    "Looking at this version of the `iris` dataset (remember - we customized it above) we have an example of an **ordinal** variable called `size`:"
   ]
  },
  {
   "cell_type": "code",
   "execution_count": 23,
   "id": "a1ebc0b7",
   "metadata": {},
   "outputs": [
    {
     "data": {
      "text/html": [
       "<div>\n",
       "<style scoped>\n",
       "    .dataframe tbody tr th:only-of-type {\n",
       "        vertical-align: middle;\n",
       "    }\n",
       "\n",
       "    .dataframe tbody tr th {\n",
       "        vertical-align: top;\n",
       "    }\n",
       "\n",
       "    .dataframe thead th {\n",
       "        text-align: right;\n",
       "    }\n",
       "</style>\n",
       "<table border=\"1\" class=\"dataframe\">\n",
       "  <thead>\n",
       "    <tr style=\"text-align: right;\">\n",
       "      <th></th>\n",
       "      <th>sepal length (cm)</th>\n",
       "      <th>sepal width (cm)</th>\n",
       "      <th>petal length (cm)</th>\n",
       "      <th>petal width (cm)</th>\n",
       "      <th>species</th>\n",
       "      <th>size</th>\n",
       "      <th>color</th>\n",
       "    </tr>\n",
       "  </thead>\n",
       "  <tbody>\n",
       "    <tr>\n",
       "      <th>0</th>\n",
       "      <td>5.1</td>\n",
       "      <td>3.5</td>\n",
       "      <td>1.4</td>\n",
       "      <td>0.2</td>\n",
       "      <td>setosa</td>\n",
       "      <td>XXL</td>\n",
       "      <td>red</td>\n",
       "    </tr>\n",
       "    <tr>\n",
       "      <th>1</th>\n",
       "      <td>4.9</td>\n",
       "      <td>3.0</td>\n",
       "      <td>1.4</td>\n",
       "      <td>0.2</td>\n",
       "      <td>setosa</td>\n",
       "      <td>M</td>\n",
       "      <td>green</td>\n",
       "    </tr>\n",
       "    <tr>\n",
       "      <th>2</th>\n",
       "      <td>4.7</td>\n",
       "      <td>3.2</td>\n",
       "      <td>1.3</td>\n",
       "      <td>0.2</td>\n",
       "      <td>setosa</td>\n",
       "      <td>M</td>\n",
       "      <td>blue</td>\n",
       "    </tr>\n",
       "    <tr>\n",
       "      <th>3</th>\n",
       "      <td>4.6</td>\n",
       "      <td>3.1</td>\n",
       "      <td>1.5</td>\n",
       "      <td>NaN</td>\n",
       "      <td>setosa</td>\n",
       "      <td>S</td>\n",
       "      <td>green</td>\n",
       "    </tr>\n",
       "    <tr>\n",
       "      <th>4</th>\n",
       "      <td>5.0</td>\n",
       "      <td>3.6</td>\n",
       "      <td>1.4</td>\n",
       "      <td>0.2</td>\n",
       "      <td>setosa</td>\n",
       "      <td>M</td>\n",
       "      <td>blue</td>\n",
       "    </tr>\n",
       "  </tbody>\n",
       "</table>\n",
       "</div>"
      ],
      "text/plain": [
       "   sepal length (cm)  sepal width (cm)  petal length (cm)  petal width (cm)  \\\n",
       "0                5.1               3.5                1.4               0.2   \n",
       "1                4.9               3.0                1.4               0.2   \n",
       "2                4.7               3.2                1.3               0.2   \n",
       "3                4.6               3.1                1.5               NaN   \n",
       "4                5.0               3.6                1.4               0.2   \n",
       "\n",
       "  species size  color  \n",
       "0  setosa  XXL    red  \n",
       "1  setosa    M  green  \n",
       "2  setosa    M   blue  \n",
       "3  setosa    S  green  \n",
       "4  setosa    M   blue  "
      ]
     },
     "execution_count": 23,
     "metadata": {},
     "output_type": "execute_result"
    }
   ],
   "source": [
    "iris_df.head()"
   ]
  },
  {
   "cell_type": "markdown",
   "id": "3d7bb221",
   "metadata": {},
   "source": [
    "In order for us to feed this into many machine learning algorithms, we need to change this into a numeric value that captures this ordering of the categories. \n",
    "\n",
    "<div class='alert alert-block alert-danger'>\n",
    "\n",
    "<font size='5'>☝🏽</font> **Note:** The range and difference between categories depends on our **domain knowledge and judgement!** \n",
    "\n",
    "</div>\n",
    "\n",
    "In other words, what should we assign the values in the `size` column?"
   ]
  },
  {
   "cell_type": "code",
   "execution_count": 24,
   "id": "b21b873b",
   "metadata": {},
   "outputs": [
    {
     "data": {
      "text/plain": [
       "array(['XXL', 'M', 'S'], dtype=object)"
      ]
     },
     "execution_count": 24,
     "metadata": {},
     "output_type": "execute_result"
    }
   ],
   "source": [
    "iris_df['size'].unique()"
   ]
  },
  {
   "cell_type": "markdown",
   "id": "bab94e97",
   "metadata": {},
   "source": [
    "<br/>\n",
    "<div class='info'>\n",
    "\n",
    "<font size='5'>🤔</font> **Pause-and-Ponder:** Lets discuss this point in class and jot down some ideas/questions below:\n",
    "\n",
    "</div>\n",
    "\n",
    "---"
   ]
  },
  {
   "cell_type": "markdown",
   "id": "d62b64f7",
   "metadata": {},
   "source": []
  },
  {
   "cell_type": "markdown",
   "id": "897ee952",
   "metadata": {},
   "source": [
    "---\n",
    "\n",
    "After some thought above fill this in:"
   ]
  },
  {
   "cell_type": "code",
   "execution_count": 25,
   "id": "dde8bf2b",
   "metadata": {},
   "outputs": [],
   "source": [
    "mapping_dict = {'S': 2,\n",
    "                'M': 3,\n",
    "                'XXL': 5}"
   ]
  },
  {
   "cell_type": "markdown",
   "id": "9f250c87",
   "metadata": {},
   "source": [
    "Now we're ready to change this column using `pandas` `.map` function that we've seen before: "
   ]
  },
  {
   "cell_type": "code",
   "execution_count": 26,
   "id": "aaac0efe",
   "metadata": {},
   "outputs": [],
   "source": [
    "pd.Series.map?"
   ]
  },
  {
   "cell_type": "code",
   "execution_count": 27,
   "id": "a84e38e6",
   "metadata": {},
   "outputs": [
    {
     "data": {
      "text/plain": [
       "0      5\n",
       "1      3\n",
       "2      3\n",
       "3      2\n",
       "4      3\n",
       "      ..\n",
       "145    5\n",
       "146    3\n",
       "147    5\n",
       "148    3\n",
       "149    5\n",
       "Name: size, Length: 150, dtype: int64"
      ]
     },
     "execution_count": 27,
     "metadata": {},
     "output_type": "execute_result"
    }
   ],
   "source": [
    "iris_df['size'].map(mapping_dict)"
   ]
  },
  {
   "cell_type": "code",
   "execution_count": 28,
   "id": "e77b1489",
   "metadata": {},
   "outputs": [
    {
     "data": {
      "text/html": [
       "<div>\n",
       "<style scoped>\n",
       "    .dataframe tbody tr th:only-of-type {\n",
       "        vertical-align: middle;\n",
       "    }\n",
       "\n",
       "    .dataframe tbody tr th {\n",
       "        vertical-align: top;\n",
       "    }\n",
       "\n",
       "    .dataframe thead th {\n",
       "        text-align: right;\n",
       "    }\n",
       "</style>\n",
       "<table border=\"1\" class=\"dataframe\">\n",
       "  <thead>\n",
       "    <tr style=\"text-align: right;\">\n",
       "      <th></th>\n",
       "      <th>sepal length (cm)</th>\n",
       "      <th>sepal width (cm)</th>\n",
       "      <th>petal length (cm)</th>\n",
       "      <th>petal width (cm)</th>\n",
       "      <th>species</th>\n",
       "      <th>size</th>\n",
       "      <th>color</th>\n",
       "    </tr>\n",
       "  </thead>\n",
       "  <tbody>\n",
       "    <tr>\n",
       "      <th>0</th>\n",
       "      <td>5.1</td>\n",
       "      <td>3.5</td>\n",
       "      <td>1.4</td>\n",
       "      <td>0.2</td>\n",
       "      <td>setosa</td>\n",
       "      <td>XXL</td>\n",
       "      <td>red</td>\n",
       "    </tr>\n",
       "    <tr>\n",
       "      <th>1</th>\n",
       "      <td>4.9</td>\n",
       "      <td>3.0</td>\n",
       "      <td>1.4</td>\n",
       "      <td>0.2</td>\n",
       "      <td>setosa</td>\n",
       "      <td>M</td>\n",
       "      <td>green</td>\n",
       "    </tr>\n",
       "    <tr>\n",
       "      <th>2</th>\n",
       "      <td>4.7</td>\n",
       "      <td>3.2</td>\n",
       "      <td>1.3</td>\n",
       "      <td>0.2</td>\n",
       "      <td>setosa</td>\n",
       "      <td>M</td>\n",
       "      <td>blue</td>\n",
       "    </tr>\n",
       "    <tr>\n",
       "      <th>3</th>\n",
       "      <td>4.6</td>\n",
       "      <td>3.1</td>\n",
       "      <td>1.5</td>\n",
       "      <td>NaN</td>\n",
       "      <td>setosa</td>\n",
       "      <td>S</td>\n",
       "      <td>green</td>\n",
       "    </tr>\n",
       "    <tr>\n",
       "      <th>4</th>\n",
       "      <td>5.0</td>\n",
       "      <td>3.6</td>\n",
       "      <td>1.4</td>\n",
       "      <td>0.2</td>\n",
       "      <td>setosa</td>\n",
       "      <td>M</td>\n",
       "      <td>blue</td>\n",
       "    </tr>\n",
       "  </tbody>\n",
       "</table>\n",
       "</div>"
      ],
      "text/plain": [
       "   sepal length (cm)  sepal width (cm)  petal length (cm)  petal width (cm)  \\\n",
       "0                5.1               3.5                1.4               0.2   \n",
       "1                4.9               3.0                1.4               0.2   \n",
       "2                4.7               3.2                1.3               0.2   \n",
       "3                4.6               3.1                1.5               NaN   \n",
       "4                5.0               3.6                1.4               0.2   \n",
       "\n",
       "  species size  color  \n",
       "0  setosa  XXL    red  \n",
       "1  setosa    M  green  \n",
       "2  setosa    M   blue  \n",
       "3  setosa    S  green  \n",
       "4  setosa    M   blue  "
      ]
     },
     "execution_count": 28,
     "metadata": {},
     "output_type": "execute_result"
    }
   ],
   "source": [
    "iris_df.head()"
   ]
  },
  {
   "cell_type": "markdown",
   "id": "690e4221",
   "metadata": {},
   "source": [
    "<font size=\"5\">🧐🤨 What happened?! </font>"
   ]
  },
  {
   "cell_type": "markdown",
   "id": "ce5da7aa",
   "metadata": {},
   "source": [
    "<div class='alert alert-block alert-danger'>\n",
    "\n",
    "<font size='5'>☝🏽</font> **Note:** Many `pandas` functions do **not** modify a dataframe in place. Instead the return the new modified object and you must save it yourself!  \n",
    "\n",
    "</div>"
   ]
  },
  {
   "cell_type": "code",
   "execution_count": 29,
   "id": "d270fbd3",
   "metadata": {},
   "outputs": [
    {
     "data": {
      "text/html": [
       "<div>\n",
       "<style scoped>\n",
       "    .dataframe tbody tr th:only-of-type {\n",
       "        vertical-align: middle;\n",
       "    }\n",
       "\n",
       "    .dataframe tbody tr th {\n",
       "        vertical-align: top;\n",
       "    }\n",
       "\n",
       "    .dataframe thead th {\n",
       "        text-align: right;\n",
       "    }\n",
       "</style>\n",
       "<table border=\"1\" class=\"dataframe\">\n",
       "  <thead>\n",
       "    <tr style=\"text-align: right;\">\n",
       "      <th></th>\n",
       "      <th>sepal length (cm)</th>\n",
       "      <th>sepal width (cm)</th>\n",
       "      <th>petal length (cm)</th>\n",
       "      <th>petal width (cm)</th>\n",
       "      <th>species</th>\n",
       "      <th>size</th>\n",
       "      <th>color</th>\n",
       "      <th>remapped_size</th>\n",
       "    </tr>\n",
       "  </thead>\n",
       "  <tbody>\n",
       "    <tr>\n",
       "      <th>0</th>\n",
       "      <td>5.1</td>\n",
       "      <td>3.5</td>\n",
       "      <td>1.4</td>\n",
       "      <td>0.2</td>\n",
       "      <td>setosa</td>\n",
       "      <td>XXL</td>\n",
       "      <td>red</td>\n",
       "      <td>5</td>\n",
       "    </tr>\n",
       "    <tr>\n",
       "      <th>1</th>\n",
       "      <td>4.9</td>\n",
       "      <td>3.0</td>\n",
       "      <td>1.4</td>\n",
       "      <td>0.2</td>\n",
       "      <td>setosa</td>\n",
       "      <td>M</td>\n",
       "      <td>green</td>\n",
       "      <td>3</td>\n",
       "    </tr>\n",
       "    <tr>\n",
       "      <th>2</th>\n",
       "      <td>4.7</td>\n",
       "      <td>3.2</td>\n",
       "      <td>1.3</td>\n",
       "      <td>0.2</td>\n",
       "      <td>setosa</td>\n",
       "      <td>M</td>\n",
       "      <td>blue</td>\n",
       "      <td>3</td>\n",
       "    </tr>\n",
       "    <tr>\n",
       "      <th>3</th>\n",
       "      <td>4.6</td>\n",
       "      <td>3.1</td>\n",
       "      <td>1.5</td>\n",
       "      <td>NaN</td>\n",
       "      <td>setosa</td>\n",
       "      <td>S</td>\n",
       "      <td>green</td>\n",
       "      <td>2</td>\n",
       "    </tr>\n",
       "    <tr>\n",
       "      <th>4</th>\n",
       "      <td>5.0</td>\n",
       "      <td>3.6</td>\n",
       "      <td>1.4</td>\n",
       "      <td>0.2</td>\n",
       "      <td>setosa</td>\n",
       "      <td>M</td>\n",
       "      <td>blue</td>\n",
       "      <td>3</td>\n",
       "    </tr>\n",
       "  </tbody>\n",
       "</table>\n",
       "</div>"
      ],
      "text/plain": [
       "   sepal length (cm)  sepal width (cm)  petal length (cm)  petal width (cm)  \\\n",
       "0                5.1               3.5                1.4               0.2   \n",
       "1                4.9               3.0                1.4               0.2   \n",
       "2                4.7               3.2                1.3               0.2   \n",
       "3                4.6               3.1                1.5               NaN   \n",
       "4                5.0               3.6                1.4               0.2   \n",
       "\n",
       "  species size  color  remapped_size  \n",
       "0  setosa  XXL    red              5  \n",
       "1  setosa    M  green              3  \n",
       "2  setosa    M   blue              3  \n",
       "3  setosa    S  green              2  \n",
       "4  setosa    M   blue              3  "
      ]
     },
     "execution_count": 29,
     "metadata": {},
     "output_type": "execute_result"
    }
   ],
   "source": [
    "iris_df['remapped_size'] = iris_df['size'].map(mapping_dict)\n",
    "iris_df.head()"
   ]
  },
  {
   "cell_type": "markdown",
   "id": "e9e5f48c",
   "metadata": {},
   "source": [
    "Lets now take a look at a classic example of **nominal variable**: **class-label**!\n",
    "\n",
    "<br/>\n",
    "<div class='info'>\n",
    "\n",
    "<font size='5'>🤔</font> **Pause-and-Ponder:**  Why is this a nominal variable? What does that mean? Comment below!\n",
    "\n",
    "</div>\n",
    "\n",
    "---"
   ]
  },
  {
   "cell_type": "markdown",
   "id": "81ac1367",
   "metadata": {},
   "source": []
  },
  {
   "cell_type": "markdown",
   "id": "78e6a991",
   "metadata": {},
   "source": [
    "---\n",
    "\n"
   ]
  },
  {
   "cell_type": "markdown",
   "id": "0ec60edf",
   "metadata": {},
   "source": [
    "Lets look at `iris_df` again:"
   ]
  },
  {
   "cell_type": "code",
   "execution_count": 30,
   "id": "b3b428b8",
   "metadata": {},
   "outputs": [
    {
     "data": {
      "text/html": [
       "<div>\n",
       "<style scoped>\n",
       "    .dataframe tbody tr th:only-of-type {\n",
       "        vertical-align: middle;\n",
       "    }\n",
       "\n",
       "    .dataframe tbody tr th {\n",
       "        vertical-align: top;\n",
       "    }\n",
       "\n",
       "    .dataframe thead th {\n",
       "        text-align: right;\n",
       "    }\n",
       "</style>\n",
       "<table border=\"1\" class=\"dataframe\">\n",
       "  <thead>\n",
       "    <tr style=\"text-align: right;\">\n",
       "      <th></th>\n",
       "      <th>sepal length (cm)</th>\n",
       "      <th>sepal width (cm)</th>\n",
       "      <th>petal length (cm)</th>\n",
       "      <th>petal width (cm)</th>\n",
       "      <th>species</th>\n",
       "      <th>size</th>\n",
       "      <th>color</th>\n",
       "      <th>remapped_size</th>\n",
       "    </tr>\n",
       "  </thead>\n",
       "  <tbody>\n",
       "    <tr>\n",
       "      <th>0</th>\n",
       "      <td>5.1</td>\n",
       "      <td>3.5</td>\n",
       "      <td>1.4</td>\n",
       "      <td>0.2</td>\n",
       "      <td>setosa</td>\n",
       "      <td>XXL</td>\n",
       "      <td>red</td>\n",
       "      <td>5</td>\n",
       "    </tr>\n",
       "    <tr>\n",
       "      <th>1</th>\n",
       "      <td>4.9</td>\n",
       "      <td>3.0</td>\n",
       "      <td>1.4</td>\n",
       "      <td>0.2</td>\n",
       "      <td>setosa</td>\n",
       "      <td>M</td>\n",
       "      <td>green</td>\n",
       "      <td>3</td>\n",
       "    </tr>\n",
       "    <tr>\n",
       "      <th>2</th>\n",
       "      <td>4.7</td>\n",
       "      <td>3.2</td>\n",
       "      <td>1.3</td>\n",
       "      <td>0.2</td>\n",
       "      <td>setosa</td>\n",
       "      <td>M</td>\n",
       "      <td>blue</td>\n",
       "      <td>3</td>\n",
       "    </tr>\n",
       "    <tr>\n",
       "      <th>3</th>\n",
       "      <td>4.6</td>\n",
       "      <td>3.1</td>\n",
       "      <td>1.5</td>\n",
       "      <td>NaN</td>\n",
       "      <td>setosa</td>\n",
       "      <td>S</td>\n",
       "      <td>green</td>\n",
       "      <td>2</td>\n",
       "    </tr>\n",
       "    <tr>\n",
       "      <th>4</th>\n",
       "      <td>5.0</td>\n",
       "      <td>3.6</td>\n",
       "      <td>1.4</td>\n",
       "      <td>0.2</td>\n",
       "      <td>setosa</td>\n",
       "      <td>M</td>\n",
       "      <td>blue</td>\n",
       "      <td>3</td>\n",
       "    </tr>\n",
       "  </tbody>\n",
       "</table>\n",
       "</div>"
      ],
      "text/plain": [
       "   sepal length (cm)  sepal width (cm)  petal length (cm)  petal width (cm)  \\\n",
       "0                5.1               3.5                1.4               0.2   \n",
       "1                4.9               3.0                1.4               0.2   \n",
       "2                4.7               3.2                1.3               0.2   \n",
       "3                4.6               3.1                1.5               NaN   \n",
       "4                5.0               3.6                1.4               0.2   \n",
       "\n",
       "  species size  color  remapped_size  \n",
       "0  setosa  XXL    red              5  \n",
       "1  setosa    M  green              3  \n",
       "2  setosa    M   blue              3  \n",
       "3  setosa    S  green              2  \n",
       "4  setosa    M   blue              3  "
      ]
     },
     "execution_count": 30,
     "metadata": {},
     "output_type": "execute_result"
    }
   ],
   "source": [
    "iris_df.head()"
   ]
  },
  {
   "cell_type": "markdown",
   "id": "b8639700",
   "metadata": {},
   "source": [
    "<br/>\n",
    "<div class='info'>\n",
    "\n",
    "<font size='5'>☝🏽</font> **Note:**  We are *ignoring* the fact that we actually do have class-labels in the `iris.target` variable, and that we created the `species` column ourselves. Lets pretend our dataset actually came like this!\n",
    "\n",
    "</div>"
   ]
  },
  {
   "cell_type": "markdown",
   "id": "129ee02d",
   "metadata": {},
   "source": [
    "So we want to somehow change the class labels to be numeric, so that we can use them in our algorithms. \n",
    "\n",
    "We could always use the `.map` method like we did above, but lets show another way thats built into `sklearn` using the `LabelEncoder` class:"
   ]
  },
  {
   "cell_type": "code",
   "execution_count": 31,
   "id": "53d10fb3",
   "metadata": {},
   "outputs": [
    {
     "data": {
      "text/plain": [
       "array([0, 0, 0, 0, 0, 0, 0, 0, 0, 0, 0, 0, 0, 0, 0, 0, 0, 0, 0, 0, 0, 0,\n",
       "       0, 0, 0, 0, 0, 0, 0, 0, 0, 0, 0, 0, 0, 0, 0, 0, 0, 0, 0, 0, 0, 0,\n",
       "       0, 0, 0, 0, 0, 0, 1, 1, 1, 1, 1, 1, 1, 1, 1, 1, 1, 1, 1, 1, 1, 1,\n",
       "       1, 1, 1, 1, 1, 1, 1, 1, 1, 1, 1, 1, 1, 1, 1, 1, 1, 1, 1, 1, 1, 1,\n",
       "       1, 1, 1, 1, 1, 1, 1, 1, 1, 1, 1, 1, 2, 2, 2, 2, 2, 2, 2, 2, 2, 2,\n",
       "       2, 2, 2, 2, 2, 2, 2, 2, 2, 2, 2, 2, 2, 2, 2, 2, 2, 2, 2, 2, 2, 2,\n",
       "       2, 2, 2, 2, 2, 2, 2, 2, 2, 2, 2, 2, 2, 2, 2, 2, 2, 2])"
      ]
     },
     "execution_count": 31,
     "metadata": {},
     "output_type": "execute_result"
    }
   ],
   "source": [
    "from sklearn.preprocessing import LabelEncoder\n",
    "label_encoder = LabelEncoder()\n",
    "label_encoder.fit_transform(iris_df['species'])"
   ]
  },
  {
   "cell_type": "markdown",
   "id": "c3cfc5df",
   "metadata": {},
   "source": [
    "Lets me a few notes about what we did here:\n",
    " - the species column was given unique numeric labels \n",
    " - we used a nice new shortcut `fit_transform` which does both methods at once! Lets confirm this:"
   ]
  },
  {
   "cell_type": "code",
   "execution_count": 32,
   "id": "e5749814",
   "metadata": {},
   "outputs": [
    {
     "data": {
      "text/plain": [
       "True"
      ]
     },
     "execution_count": 32,
     "metadata": {},
     "output_type": "execute_result"
    }
   ],
   "source": [
    "np.all(\n",
    "    label_encoder.fit(iris_df['species']).transform(iris_df['species']) \n",
    "    == label_encoder.fit_transform(iris_df['species'])\n",
    ")"
   ]
  },
  {
   "cell_type": "markdown",
   "id": "a5df0bd2",
   "metadata": {},
   "source": [
    "Now we need to save this somewhere:"
   ]
  },
  {
   "cell_type": "code",
   "execution_count": 33,
   "id": "24a62d9b",
   "metadata": {},
   "outputs": [],
   "source": [
    "iris_df['class'] = label_encoder.fit_transform(iris_df['species'])"
   ]
  },
  {
   "cell_type": "code",
   "execution_count": 34,
   "id": "20b4f7ad",
   "metadata": {},
   "outputs": [
    {
     "data": {
      "text/html": [
       "<div>\n",
       "<style scoped>\n",
       "    .dataframe tbody tr th:only-of-type {\n",
       "        vertical-align: middle;\n",
       "    }\n",
       "\n",
       "    .dataframe tbody tr th {\n",
       "        vertical-align: top;\n",
       "    }\n",
       "\n",
       "    .dataframe thead th {\n",
       "        text-align: right;\n",
       "    }\n",
       "</style>\n",
       "<table border=\"1\" class=\"dataframe\">\n",
       "  <thead>\n",
       "    <tr style=\"text-align: right;\">\n",
       "      <th></th>\n",
       "      <th>sepal length (cm)</th>\n",
       "      <th>sepal width (cm)</th>\n",
       "      <th>petal length (cm)</th>\n",
       "      <th>petal width (cm)</th>\n",
       "      <th>species</th>\n",
       "      <th>size</th>\n",
       "      <th>color</th>\n",
       "      <th>remapped_size</th>\n",
       "      <th>class</th>\n",
       "    </tr>\n",
       "  </thead>\n",
       "  <tbody>\n",
       "    <tr>\n",
       "      <th>0</th>\n",
       "      <td>5.1</td>\n",
       "      <td>3.5</td>\n",
       "      <td>1.4</td>\n",
       "      <td>0.2</td>\n",
       "      <td>setosa</td>\n",
       "      <td>XXL</td>\n",
       "      <td>red</td>\n",
       "      <td>5</td>\n",
       "      <td>0</td>\n",
       "    </tr>\n",
       "    <tr>\n",
       "      <th>1</th>\n",
       "      <td>4.9</td>\n",
       "      <td>3.0</td>\n",
       "      <td>1.4</td>\n",
       "      <td>0.2</td>\n",
       "      <td>setosa</td>\n",
       "      <td>M</td>\n",
       "      <td>green</td>\n",
       "      <td>3</td>\n",
       "      <td>0</td>\n",
       "    </tr>\n",
       "    <tr>\n",
       "      <th>2</th>\n",
       "      <td>4.7</td>\n",
       "      <td>3.2</td>\n",
       "      <td>1.3</td>\n",
       "      <td>0.2</td>\n",
       "      <td>setosa</td>\n",
       "      <td>M</td>\n",
       "      <td>blue</td>\n",
       "      <td>3</td>\n",
       "      <td>0</td>\n",
       "    </tr>\n",
       "    <tr>\n",
       "      <th>3</th>\n",
       "      <td>4.6</td>\n",
       "      <td>3.1</td>\n",
       "      <td>1.5</td>\n",
       "      <td>NaN</td>\n",
       "      <td>setosa</td>\n",
       "      <td>S</td>\n",
       "      <td>green</td>\n",
       "      <td>2</td>\n",
       "      <td>0</td>\n",
       "    </tr>\n",
       "    <tr>\n",
       "      <th>4</th>\n",
       "      <td>5.0</td>\n",
       "      <td>3.6</td>\n",
       "      <td>1.4</td>\n",
       "      <td>0.2</td>\n",
       "      <td>setosa</td>\n",
       "      <td>M</td>\n",
       "      <td>blue</td>\n",
       "      <td>3</td>\n",
       "      <td>0</td>\n",
       "    </tr>\n",
       "  </tbody>\n",
       "</table>\n",
       "</div>"
      ],
      "text/plain": [
       "   sepal length (cm)  sepal width (cm)  petal length (cm)  petal width (cm)  \\\n",
       "0                5.1               3.5                1.4               0.2   \n",
       "1                4.9               3.0                1.4               0.2   \n",
       "2                4.7               3.2                1.3               0.2   \n",
       "3                4.6               3.1                1.5               NaN   \n",
       "4                5.0               3.6                1.4               0.2   \n",
       "\n",
       "  species size  color  remapped_size  class  \n",
       "0  setosa  XXL    red              5      0  \n",
       "1  setosa    M  green              3      0  \n",
       "2  setosa    M   blue              3      0  \n",
       "3  setosa    S  green              2      0  \n",
       "4  setosa    M   blue              3      0  "
      ]
     },
     "execution_count": 34,
     "metadata": {},
     "output_type": "execute_result"
    }
   ],
   "source": [
    "iris_df.head()"
   ]
  },
  {
   "cell_type": "markdown",
   "id": "1c9d409a",
   "metadata": {},
   "source": [
    "<br/>\n",
    "<div class='info'>\n",
    "\n",
    "<font size='5'>🤔</font> **Pause-and-Ponder:** A common point of confusion is that the class-label is being represented by a number - but we are saying this is a **nominal** value. Lets think about this together and jot down some notes in class! Comment below!\n",
    "\n",
    "</div>\n",
    "\n",
    "---"
   ]
  },
  {
   "cell_type": "markdown",
   "id": "44302ebc",
   "metadata": {},
   "source": []
  },
  {
   "cell_type": "markdown",
   "id": "444a4d0f",
   "metadata": {},
   "source": [
    "---\n",
    "\n",
    "Lets deal with another **nominal** variable `color`. This is **not** an independent variable, so we do need to deal with it a bit more carefully! \n",
    "\n",
    "If we just did the same as we did above and gave this a numeric value, many ML algorithms will *treat it* as a number! \n",
    "\n",
    "Instead, one way we typically deal with this is called **one-hot encoding**:\n",
    "\n",
    "<br/>\n",
    "<div class='info'>\n",
    "\n",
    "<font size='5'>📖</font> **Definition:** A variable is **one-hot encoded** by creating **dummy** variables for each of its possible values. \n",
    "\n",
    "</div>\n",
    "\n",
    "So for the variable `color` we have:"
   ]
  },
  {
   "cell_type": "code",
   "execution_count": 35,
   "id": "6aed0a19",
   "metadata": {},
   "outputs": [
    {
     "data": {
      "text/plain": [
       "array(['red', 'green', 'blue'], dtype=object)"
      ]
     },
     "execution_count": 35,
     "metadata": {},
     "output_type": "execute_result"
    }
   ],
   "source": [
    "iris_df['color'].unique()"
   ]
  },
  {
   "cell_type": "markdown",
   "id": "a4672865",
   "metadata": {},
   "source": [
    "Three different values, so we create three different **dummy** variables. \n",
    "\n",
    "We could do this manually (challenge: try it!), but `pandas` provides a built in `.get_dummies` method for us!"
   ]
  },
  {
   "cell_type": "code",
   "execution_count": 36,
   "id": "14b68b79",
   "metadata": {},
   "outputs": [
    {
     "data": {
      "text/html": [
       "<div>\n",
       "<style scoped>\n",
       "    .dataframe tbody tr th:only-of-type {\n",
       "        vertical-align: middle;\n",
       "    }\n",
       "\n",
       "    .dataframe tbody tr th {\n",
       "        vertical-align: top;\n",
       "    }\n",
       "\n",
       "    .dataframe thead th {\n",
       "        text-align: right;\n",
       "    }\n",
       "</style>\n",
       "<table border=\"1\" class=\"dataframe\">\n",
       "  <thead>\n",
       "    <tr style=\"text-align: right;\">\n",
       "      <th></th>\n",
       "      <th>sepal length (cm)</th>\n",
       "      <th>sepal width (cm)</th>\n",
       "      <th>petal length (cm)</th>\n",
       "      <th>petal width (cm)</th>\n",
       "      <th>species</th>\n",
       "      <th>size</th>\n",
       "      <th>remapped_size</th>\n",
       "      <th>class</th>\n",
       "      <th>color_blue</th>\n",
       "      <th>color_green</th>\n",
       "      <th>color_red</th>\n",
       "    </tr>\n",
       "  </thead>\n",
       "  <tbody>\n",
       "    <tr>\n",
       "      <th>0</th>\n",
       "      <td>5.1</td>\n",
       "      <td>3.5</td>\n",
       "      <td>1.4</td>\n",
       "      <td>0.2</td>\n",
       "      <td>setosa</td>\n",
       "      <td>XXL</td>\n",
       "      <td>5</td>\n",
       "      <td>0</td>\n",
       "      <td>0</td>\n",
       "      <td>0</td>\n",
       "      <td>1</td>\n",
       "    </tr>\n",
       "    <tr>\n",
       "      <th>1</th>\n",
       "      <td>4.9</td>\n",
       "      <td>3.0</td>\n",
       "      <td>1.4</td>\n",
       "      <td>0.2</td>\n",
       "      <td>setosa</td>\n",
       "      <td>M</td>\n",
       "      <td>3</td>\n",
       "      <td>0</td>\n",
       "      <td>0</td>\n",
       "      <td>1</td>\n",
       "      <td>0</td>\n",
       "    </tr>\n",
       "    <tr>\n",
       "      <th>2</th>\n",
       "      <td>4.7</td>\n",
       "      <td>3.2</td>\n",
       "      <td>1.3</td>\n",
       "      <td>0.2</td>\n",
       "      <td>setosa</td>\n",
       "      <td>M</td>\n",
       "      <td>3</td>\n",
       "      <td>0</td>\n",
       "      <td>1</td>\n",
       "      <td>0</td>\n",
       "      <td>0</td>\n",
       "    </tr>\n",
       "    <tr>\n",
       "      <th>3</th>\n",
       "      <td>4.6</td>\n",
       "      <td>3.1</td>\n",
       "      <td>1.5</td>\n",
       "      <td>NaN</td>\n",
       "      <td>setosa</td>\n",
       "      <td>S</td>\n",
       "      <td>2</td>\n",
       "      <td>0</td>\n",
       "      <td>0</td>\n",
       "      <td>1</td>\n",
       "      <td>0</td>\n",
       "    </tr>\n",
       "    <tr>\n",
       "      <th>4</th>\n",
       "      <td>5.0</td>\n",
       "      <td>3.6</td>\n",
       "      <td>1.4</td>\n",
       "      <td>0.2</td>\n",
       "      <td>setosa</td>\n",
       "      <td>M</td>\n",
       "      <td>3</td>\n",
       "      <td>0</td>\n",
       "      <td>1</td>\n",
       "      <td>0</td>\n",
       "      <td>0</td>\n",
       "    </tr>\n",
       "    <tr>\n",
       "      <th>...</th>\n",
       "      <td>...</td>\n",
       "      <td>...</td>\n",
       "      <td>...</td>\n",
       "      <td>...</td>\n",
       "      <td>...</td>\n",
       "      <td>...</td>\n",
       "      <td>...</td>\n",
       "      <td>...</td>\n",
       "      <td>...</td>\n",
       "      <td>...</td>\n",
       "      <td>...</td>\n",
       "    </tr>\n",
       "    <tr>\n",
       "      <th>145</th>\n",
       "      <td>6.7</td>\n",
       "      <td>3.0</td>\n",
       "      <td>5.2</td>\n",
       "      <td>2.3</td>\n",
       "      <td>virginica</td>\n",
       "      <td>XXL</td>\n",
       "      <td>5</td>\n",
       "      <td>2</td>\n",
       "      <td>0</td>\n",
       "      <td>1</td>\n",
       "      <td>0</td>\n",
       "    </tr>\n",
       "    <tr>\n",
       "      <th>146</th>\n",
       "      <td>6.3</td>\n",
       "      <td>2.5</td>\n",
       "      <td>5.0</td>\n",
       "      <td>1.9</td>\n",
       "      <td>virginica</td>\n",
       "      <td>M</td>\n",
       "      <td>3</td>\n",
       "      <td>2</td>\n",
       "      <td>1</td>\n",
       "      <td>0</td>\n",
       "      <td>0</td>\n",
       "    </tr>\n",
       "    <tr>\n",
       "      <th>147</th>\n",
       "      <td>6.5</td>\n",
       "      <td>3.0</td>\n",
       "      <td>5.2</td>\n",
       "      <td>2.0</td>\n",
       "      <td>virginica</td>\n",
       "      <td>XXL</td>\n",
       "      <td>5</td>\n",
       "      <td>2</td>\n",
       "      <td>0</td>\n",
       "      <td>0</td>\n",
       "      <td>1</td>\n",
       "    </tr>\n",
       "    <tr>\n",
       "      <th>148</th>\n",
       "      <td>6.2</td>\n",
       "      <td>3.4</td>\n",
       "      <td>NaN</td>\n",
       "      <td>2.3</td>\n",
       "      <td>virginica</td>\n",
       "      <td>M</td>\n",
       "      <td>3</td>\n",
       "      <td>2</td>\n",
       "      <td>1</td>\n",
       "      <td>0</td>\n",
       "      <td>0</td>\n",
       "    </tr>\n",
       "    <tr>\n",
       "      <th>149</th>\n",
       "      <td>5.9</td>\n",
       "      <td>3.0</td>\n",
       "      <td>5.1</td>\n",
       "      <td>1.8</td>\n",
       "      <td>virginica</td>\n",
       "      <td>XXL</td>\n",
       "      <td>5</td>\n",
       "      <td>2</td>\n",
       "      <td>1</td>\n",
       "      <td>0</td>\n",
       "      <td>0</td>\n",
       "    </tr>\n",
       "  </tbody>\n",
       "</table>\n",
       "<p>150 rows × 11 columns</p>\n",
       "</div>"
      ],
      "text/plain": [
       "     sepal length (cm)  sepal width (cm)  petal length (cm)  petal width (cm)  \\\n",
       "0                  5.1               3.5                1.4               0.2   \n",
       "1                  4.9               3.0                1.4               0.2   \n",
       "2                  4.7               3.2                1.3               0.2   \n",
       "3                  4.6               3.1                1.5               NaN   \n",
       "4                  5.0               3.6                1.4               0.2   \n",
       "..                 ...               ...                ...               ...   \n",
       "145                6.7               3.0                5.2               2.3   \n",
       "146                6.3               2.5                5.0               1.9   \n",
       "147                6.5               3.0                5.2               2.0   \n",
       "148                6.2               3.4                NaN               2.3   \n",
       "149                5.9               3.0                5.1               1.8   \n",
       "\n",
       "       species size  remapped_size  class  color_blue  color_green  color_red  \n",
       "0       setosa  XXL              5      0           0            0          1  \n",
       "1       setosa    M              3      0           0            1          0  \n",
       "2       setosa    M              3      0           1            0          0  \n",
       "3       setosa    S              2      0           0            1          0  \n",
       "4       setosa    M              3      0           1            0          0  \n",
       "..         ...  ...            ...    ...         ...          ...        ...  \n",
       "145  virginica  XXL              5      2           0            1          0  \n",
       "146  virginica    M              3      2           1            0          0  \n",
       "147  virginica  XXL              5      2           0            0          1  \n",
       "148  virginica    M              3      2           1            0          0  \n",
       "149  virginica  XXL              5      2           1            0          0  \n",
       "\n",
       "[150 rows x 11 columns]"
      ]
     },
     "execution_count": 36,
     "metadata": {},
     "output_type": "execute_result"
    }
   ],
   "source": [
    "pd.get_dummies(iris_df,columns=['color'])"
   ]
  },
  {
   "cell_type": "markdown",
   "id": "4c1a4124",
   "metadata": {},
   "source": [
    "This returns a new dataframe with our dummy variables appended as new columns, so lets \"replace\" our old dataframe with this one:"
   ]
  },
  {
   "cell_type": "code",
   "execution_count": 37,
   "id": "f890d62b",
   "metadata": {
    "scrolled": true
   },
   "outputs": [
    {
     "data": {
      "text/html": [
       "<div>\n",
       "<style scoped>\n",
       "    .dataframe tbody tr th:only-of-type {\n",
       "        vertical-align: middle;\n",
       "    }\n",
       "\n",
       "    .dataframe tbody tr th {\n",
       "        vertical-align: top;\n",
       "    }\n",
       "\n",
       "    .dataframe thead th {\n",
       "        text-align: right;\n",
       "    }\n",
       "</style>\n",
       "<table border=\"1\" class=\"dataframe\">\n",
       "  <thead>\n",
       "    <tr style=\"text-align: right;\">\n",
       "      <th></th>\n",
       "      <th>sepal length (cm)</th>\n",
       "      <th>sepal width (cm)</th>\n",
       "      <th>petal length (cm)</th>\n",
       "      <th>petal width (cm)</th>\n",
       "      <th>species</th>\n",
       "      <th>size</th>\n",
       "      <th>remapped_size</th>\n",
       "      <th>class</th>\n",
       "      <th>color_blue</th>\n",
       "      <th>color_green</th>\n",
       "      <th>color_red</th>\n",
       "    </tr>\n",
       "  </thead>\n",
       "  <tbody>\n",
       "    <tr>\n",
       "      <th>0</th>\n",
       "      <td>5.1</td>\n",
       "      <td>3.5</td>\n",
       "      <td>1.4</td>\n",
       "      <td>0.2</td>\n",
       "      <td>setosa</td>\n",
       "      <td>XXL</td>\n",
       "      <td>5</td>\n",
       "      <td>0</td>\n",
       "      <td>0</td>\n",
       "      <td>0</td>\n",
       "      <td>1</td>\n",
       "    </tr>\n",
       "    <tr>\n",
       "      <th>1</th>\n",
       "      <td>4.9</td>\n",
       "      <td>3.0</td>\n",
       "      <td>1.4</td>\n",
       "      <td>0.2</td>\n",
       "      <td>setosa</td>\n",
       "      <td>M</td>\n",
       "      <td>3</td>\n",
       "      <td>0</td>\n",
       "      <td>0</td>\n",
       "      <td>1</td>\n",
       "      <td>0</td>\n",
       "    </tr>\n",
       "    <tr>\n",
       "      <th>2</th>\n",
       "      <td>4.7</td>\n",
       "      <td>3.2</td>\n",
       "      <td>1.3</td>\n",
       "      <td>0.2</td>\n",
       "      <td>setosa</td>\n",
       "      <td>M</td>\n",
       "      <td>3</td>\n",
       "      <td>0</td>\n",
       "      <td>1</td>\n",
       "      <td>0</td>\n",
       "      <td>0</td>\n",
       "    </tr>\n",
       "    <tr>\n",
       "      <th>3</th>\n",
       "      <td>4.6</td>\n",
       "      <td>3.1</td>\n",
       "      <td>1.5</td>\n",
       "      <td>NaN</td>\n",
       "      <td>setosa</td>\n",
       "      <td>S</td>\n",
       "      <td>2</td>\n",
       "      <td>0</td>\n",
       "      <td>0</td>\n",
       "      <td>1</td>\n",
       "      <td>0</td>\n",
       "    </tr>\n",
       "    <tr>\n",
       "      <th>4</th>\n",
       "      <td>5.0</td>\n",
       "      <td>3.6</td>\n",
       "      <td>1.4</td>\n",
       "      <td>0.2</td>\n",
       "      <td>setosa</td>\n",
       "      <td>M</td>\n",
       "      <td>3</td>\n",
       "      <td>0</td>\n",
       "      <td>1</td>\n",
       "      <td>0</td>\n",
       "      <td>0</td>\n",
       "    </tr>\n",
       "    <tr>\n",
       "      <th>...</th>\n",
       "      <td>...</td>\n",
       "      <td>...</td>\n",
       "      <td>...</td>\n",
       "      <td>...</td>\n",
       "      <td>...</td>\n",
       "      <td>...</td>\n",
       "      <td>...</td>\n",
       "      <td>...</td>\n",
       "      <td>...</td>\n",
       "      <td>...</td>\n",
       "      <td>...</td>\n",
       "    </tr>\n",
       "    <tr>\n",
       "      <th>145</th>\n",
       "      <td>6.7</td>\n",
       "      <td>3.0</td>\n",
       "      <td>5.2</td>\n",
       "      <td>2.3</td>\n",
       "      <td>virginica</td>\n",
       "      <td>XXL</td>\n",
       "      <td>5</td>\n",
       "      <td>2</td>\n",
       "      <td>0</td>\n",
       "      <td>1</td>\n",
       "      <td>0</td>\n",
       "    </tr>\n",
       "    <tr>\n",
       "      <th>146</th>\n",
       "      <td>6.3</td>\n",
       "      <td>2.5</td>\n",
       "      <td>5.0</td>\n",
       "      <td>1.9</td>\n",
       "      <td>virginica</td>\n",
       "      <td>M</td>\n",
       "      <td>3</td>\n",
       "      <td>2</td>\n",
       "      <td>1</td>\n",
       "      <td>0</td>\n",
       "      <td>0</td>\n",
       "    </tr>\n",
       "    <tr>\n",
       "      <th>147</th>\n",
       "      <td>6.5</td>\n",
       "      <td>3.0</td>\n",
       "      <td>5.2</td>\n",
       "      <td>2.0</td>\n",
       "      <td>virginica</td>\n",
       "      <td>XXL</td>\n",
       "      <td>5</td>\n",
       "      <td>2</td>\n",
       "      <td>0</td>\n",
       "      <td>0</td>\n",
       "      <td>1</td>\n",
       "    </tr>\n",
       "    <tr>\n",
       "      <th>148</th>\n",
       "      <td>6.2</td>\n",
       "      <td>3.4</td>\n",
       "      <td>NaN</td>\n",
       "      <td>2.3</td>\n",
       "      <td>virginica</td>\n",
       "      <td>M</td>\n",
       "      <td>3</td>\n",
       "      <td>2</td>\n",
       "      <td>1</td>\n",
       "      <td>0</td>\n",
       "      <td>0</td>\n",
       "    </tr>\n",
       "    <tr>\n",
       "      <th>149</th>\n",
       "      <td>5.9</td>\n",
       "      <td>3.0</td>\n",
       "      <td>5.1</td>\n",
       "      <td>1.8</td>\n",
       "      <td>virginica</td>\n",
       "      <td>XXL</td>\n",
       "      <td>5</td>\n",
       "      <td>2</td>\n",
       "      <td>1</td>\n",
       "      <td>0</td>\n",
       "      <td>0</td>\n",
       "    </tr>\n",
       "  </tbody>\n",
       "</table>\n",
       "<p>150 rows × 11 columns</p>\n",
       "</div>"
      ],
      "text/plain": [
       "     sepal length (cm)  sepal width (cm)  petal length (cm)  petal width (cm)  \\\n",
       "0                  5.1               3.5                1.4               0.2   \n",
       "1                  4.9               3.0                1.4               0.2   \n",
       "2                  4.7               3.2                1.3               0.2   \n",
       "3                  4.6               3.1                1.5               NaN   \n",
       "4                  5.0               3.6                1.4               0.2   \n",
       "..                 ...               ...                ...               ...   \n",
       "145                6.7               3.0                5.2               2.3   \n",
       "146                6.3               2.5                5.0               1.9   \n",
       "147                6.5               3.0                5.2               2.0   \n",
       "148                6.2               3.4                NaN               2.3   \n",
       "149                5.9               3.0                5.1               1.8   \n",
       "\n",
       "       species size  remapped_size  class  color_blue  color_green  color_red  \n",
       "0       setosa  XXL              5      0           0            0          1  \n",
       "1       setosa    M              3      0           0            1          0  \n",
       "2       setosa    M              3      0           1            0          0  \n",
       "3       setosa    S              2      0           0            1          0  \n",
       "4       setosa    M              3      0           1            0          0  \n",
       "..         ...  ...            ...    ...         ...          ...        ...  \n",
       "145  virginica  XXL              5      2           0            1          0  \n",
       "146  virginica    M              3      2           1            0          0  \n",
       "147  virginica  XXL              5      2           0            0          1  \n",
       "148  virginica    M              3      2           1            0          0  \n",
       "149  virginica  XXL              5      2           1            0          0  \n",
       "\n",
       "[150 rows x 11 columns]"
      ]
     },
     "execution_count": 37,
     "metadata": {},
     "output_type": "execute_result"
    }
   ],
   "source": [
    "iris_df = pd.get_dummies(iris_df,columns=['color'])\n",
    "iris_df"
   ]
  },
  {
   "cell_type": "markdown",
   "id": "a32b3c9b",
   "metadata": {},
   "source": [
    "<br/>\n",
    "<div class='info'>\n",
    "\n",
    "<font size='5'>🤔</font> **Pause-and-Ponder:**  This introduced three new dummy variables for a categorical variable that could take on three possible variables. Could we do better? Lets discuss and comment below!\n",
    "\n",
    "</div>\n",
    "\n",
    "---"
   ]
  },
  {
   "cell_type": "markdown",
   "id": "b5ffde3d",
   "metadata": {},
   "source": []
  },
  {
   "cell_type": "markdown",
   "id": "b72af519",
   "metadata": {},
   "source": [
    "---"
   ]
  },
  {
   "cell_type": "code",
   "execution_count": null,
   "id": "614a2750",
   "metadata": {},
   "outputs": [],
   "source": []
  }
 ],
 "metadata": {
  "kernelspec": {
   "display_name": "Python 3 (ipykernel)",
   "language": "python",
   "name": "python3"
  },
  "language_info": {
   "codemirror_mode": {
    "name": "ipython",
    "version": 3
   },
   "file_extension": ".py",
   "mimetype": "text/x-python",
   "name": "python",
   "nbconvert_exporter": "python",
   "pygments_lexer": "ipython3",
   "version": "3.8.3"
  },
  "toc": {
   "base_numbering": 1,
   "nav_menu": {},
   "number_sections": false,
   "sideBar": true,
   "skip_h1_title": false,
   "title_cell": "Table of Contents",
   "title_sidebar": "Contents",
   "toc_cell": false,
   "toc_position": {
    "height": "calc(100% - 180px)",
    "left": "10px",
    "top": "150px",
    "width": "163.2px"
   },
   "toc_section_display": true,
   "toc_window_display": true
  }
 },
 "nbformat": 4,
 "nbformat_minor": 5
}
