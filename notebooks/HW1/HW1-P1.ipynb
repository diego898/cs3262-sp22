{
 "cells": [
  {
   "cell_type": "markdown",
   "id": "215775ed",
   "metadata": {
    "id": "215775ed"
   },
   "source": [
    "# HW1 Notebook\n",
    "\n",
    "\n",
    "Welcome to part 1 of your second HW notebook!"
   ]
  },
  {
   "cell_type": "markdown",
   "id": "8ecf0dc3",
   "metadata": {},
   "source": [
    "## Notebook Setup"
   ]
  },
  {
   "cell_type": "code",
   "execution_count": 1,
   "id": "7910b2eb",
   "metadata": {},
   "outputs": [
    {
     "data": {
      "text/html": [
       "<style>div.info{padding: 15px; border: 1px solid transparent; border-left: 5px solid #dfb5b4; border-color: transparent; margin-bottom: 10px; border-radius: 4px; background-color: #fcf8e3; border-color: #faebcc;}</style>"
      ],
      "text/plain": [
       "<IPython.core.display.HTML object>"
      ]
     },
     "execution_count": 1,
     "metadata": {},
     "output_type": "execute_result"
    }
   ],
   "source": [
    "import numpy as np \n",
    "import matplotlib.pyplot as plt\n",
    "import seaborn as sns\n",
    "# styling additions\n",
    "from IPython.display import HTML\n",
    "# style = \"<style>div.warn{background-color: #fcf2f2;border-color: #dFb5b4; border-left: 5px solid #dfb5b4; padding: 0.5em;}</style>\"\n",
    "style = \"<style>div.info{padding: 15px; border: 1px solid transparent; border-left: 5px solid #dfb5b4; border-color: transparent; margin-bottom: 10px; border-radius: 4px; background-color: #fcf8e3; border-color: #faebcc;}</style>\"\n",
    "HTML(style)"
   ]
  },
  {
   "cell_type": "markdown",
   "id": "fa4488aa",
   "metadata": {},
   "source": [
    "# Problem 0"
   ]
  },
  {
   "cell_type": "markdown",
   "id": "474ccaa0",
   "metadata": {},
   "source": [
    "As in HW0, Problem 0 on this HW requires reading and interacting with the **excellent** [Python Like You Mean it](https://www.pythonlikeyoumeanit.com/) resource, specifically Module 3, introducing you to the basics of numpy. \n",
    "\n",
    "<br/>\n",
    "<div class='info'>\n",
    "\n",
    "<font size='5'>☝🏽</font> **Note:** The original resource is not itself interactive. For the sake of this class, I have converted the code *samples* in Module 3, to interactive code *cells* in a notebook and provide you with them for our class.\n",
    "\n",
    "</div>\n",
    "\n",
    "<div class=\"alert alert-block alert-danger\">\n",
    "    \n",
    "<font size='5'>⚠️</font> **Warning:** This conversion was done mostly automatically by a script I wrote. I spot-checked the conversion and it looked ok. If there is anything \"weird\" in your notebook, please refer back to the original source online! \n",
    "    \n",
    "Please let me know by reporting it on Piazza and I will update it! \n",
    "    \n",
    "</div>\n",
    "\n",
    "\n",
    "<br/>\n",
    "\n",
    "<div class=\"info\">\n",
    "\n",
    "<font size='5'>☝🏽</font> **Note:** Not all of Module 3 is **required**. From the list below, I have denoted the **required sections** with a <font size=\"5\">⚠️</font> emoji\n",
    "\n",
    "</div>\n",
    "\n",
    "\n",
    "### Module 3: The Essentials of NumPy\n",
    " - <font size=\"5\">⚠️</font>[**Introducing the ND-array**](../PLYMI/Module3/IntroducingTheNDarray.ipynb)\n",
    " \n",
    " \n",
    " - <font size=\"5\">⚠️</font>[**Accessing Data Along Multiple Dimensions in an Array**](../PLYMI/Module3/AccessingDataAlongMultipleDimensions.ipynb)\n",
    "  - One-dimensional Arrays\n",
    "  - Two-dimensional Arrays\n",
    "  - N-dimensional Arrays\n",
    "  - Zero-dimensional Arrays\n",
    "  - Manipulating Arrays\n",
    "  \n",
    "  \n",
    " - <font size=\"5\">⚠️</font>[**Basic Array Attributes**](../PLYMI/Module3/BasicArrayAttributes.ipynb)\n",
    "\n",
    "\n",
    " - <font size=\"5\">⚠️</font>[**Functions for Creating NumPy Arrays**](../PLYMI/Module3/FunctionsForCreatingNumpyArrays.ipynb)\n",
    "  - Creating Arrays from Python Sequences\n",
    "  - Creating Constant Arrays: zeros and ones\n",
    "  - Creating Sequential Arrays: arange and linspace\n",
    "  - Creating Arrays Using Random Sampling\n",
    "  - Creating an Array with a Specified Data Type\n",
    "  - Joining Arrays Together\n",
    "  \n",
    "  \n",
    " - [Iterating Over Arrays & Array-Traversal Order](../PLYMI/Module3/ArrayTraversal.ipynb)\n",
    "  - How to Traverse an Array: Row-major (C) vs Column-major (F) Traversal Ordering\n",
    "  \n",
    "  \n",
    " - <font size=\"5\">⚠️</font>[**“Vectorized” Operations: Optimized Computations on NumPy Arrays**](../PLYMI/Module3/VectorizedOperations.ipynb)\n",
    "  - Basic Mathematical Operations Using Arrays\n",
    "  - Vectorized Operations\n",
    "  - NumPy’s Mathematical Functions\n",
    "  - Logical Operations\n",
    "  - Linear Algebra\n",
    "  \n",
    "  \n",
    " - <font size=\"5\">⚠️</font>[**Array Broadcasting**](../PLYMI/Module3/Broadcasting.ipynb)\n",
    "  - Rules of Broadcasting\n",
    "  - A Simple Application of Array Broadcasting\n",
    "  - Size-1 Axes & The newaxis Object\n",
    "  - An Advanced Application of Broadcasting: Pairwise Distances\n",
    "\n",
    "  \n",
    " - <font size=\"5\">⚠️</font>[**Introducing Basic Indexing**](../PLYMI/Module3/BasicIndexing.ipynb)\n",
    "  - Basic Indexing\n",
    "  - Producing a View of an Array\n",
    "  - Augmenting the Underlying Data of an Array\n",
    "\n",
    "  \n",
    " - [Advanced Indexing](../PLYMI/Module3/AdvancedIndexing.ipynb)\n",
    "  - Integer Array Indexing\n",
    "  - Boolean-Array Indexing\n",
    "  - In-Place & Augmented Assignments via Advanced Indexing\n",
    "  - Combining Basic and Advanced Indexing Schemes\n",
    "\n",
    "---"
   ]
  },
  {
   "cell_type": "markdown",
   "id": "8b612f49",
   "metadata": {},
   "source": [
    "# Problem 1"
   ]
  },
  {
   "cell_type": "markdown",
   "id": "1723af88",
   "metadata": {},
   "source": [
    "Now that you've read and interacted with most of Module 3, you are ready to \"test your skills\" on this problem! "
   ]
  },
  {
   "cell_type": "markdown",
   "id": "e01a2d0f",
   "metadata": {},
   "source": [
    "1. Generate an array of shape `3,4,10` filled with random numbers.\n",
    "\n",
    "**Hint**: You can use the `np.random.random` function!"
   ]
  },
  {
   "cell_type": "code",
   "execution_count": null,
   "id": "319fbe76",
   "metadata": {},
   "outputs": [],
   "source": []
  },
  {
   "cell_type": "markdown",
   "id": "81f8cee2",
   "metadata": {},
   "source": []
  },
  {
   "cell_type": "markdown",
   "id": "97dbb03d",
   "metadata": {},
   "source": [
    "2. Generate an array of 47 random integers from the range 1-100."
   ]
  },
  {
   "cell_type": "code",
   "execution_count": null,
   "id": "f3128f42",
   "metadata": {},
   "outputs": [],
   "source": []
  },
  {
   "cell_type": "code",
   "execution_count": null,
   "id": "410bae62",
   "metadata": {},
   "outputs": [],
   "source": []
  },
  {
   "cell_type": "markdown",
   "id": "e55855a9",
   "metadata": {},
   "source": [
    "3. Create the following arrays:\n",
    "\n",
    "```python\n",
    "x_1 = [1,2,3,4,5]\n",
    "y_2 = [99, 100, 20, 23, 45]\n",
    "```\n",
    "\n",
    "then combine them into a matrix `A` (in numpy, just another ND-array) of shape `(2,5)`."
   ]
  },
  {
   "cell_type": "code",
   "execution_count": null,
   "id": "d085b741",
   "metadata": {},
   "outputs": [],
   "source": []
  },
  {
   "cell_type": "code",
   "execution_count": null,
   "id": "7528a759",
   "metadata": {},
   "outputs": [],
   "source": []
  },
  {
   "cell_type": "markdown",
   "id": "bcb58227",
   "metadata": {},
   "source": [
    "4. Add a column of `1`s to the \"front\" of your new matrix `A`. That is, make `A` have shape `(3,5)` and A[:,0] be all equal to 1.  "
   ]
  },
  {
   "cell_type": "code",
   "execution_count": null,
   "id": "137f436c",
   "metadata": {},
   "outputs": [],
   "source": []
  },
  {
   "cell_type": "code",
   "execution_count": null,
   "id": "6503d982",
   "metadata": {},
   "outputs": [],
   "source": []
  },
  {
   "cell_type": "markdown",
   "id": "c84daa1b",
   "metadata": {},
   "source": [
    "5. Slice your matrix `A` to grab all rows and columns 1-3.:"
   ]
  },
  {
   "cell_type": "code",
   "execution_count": null,
   "id": "f3927903",
   "metadata": {},
   "outputs": [],
   "source": []
  },
  {
   "cell_type": "code",
   "execution_count": null,
   "id": "b60d891c",
   "metadata": {},
   "outputs": [],
   "source": []
  },
  {
   "cell_type": "markdown",
   "id": "83463632",
   "metadata": {},
   "source": [
    "6. Using numpys `arange` and `reshape` functions, generate an array of integers from -5 to 20 (not including 20), and turn them into a `(5,5)` matrix, called `F`"
   ]
  },
  {
   "cell_type": "code",
   "execution_count": null,
   "id": "041c44f4",
   "metadata": {},
   "outputs": [],
   "source": []
  },
  {
   "cell_type": "code",
   "execution_count": null,
   "id": "a1ae5636",
   "metadata": {},
   "outputs": [],
   "source": []
  },
  {
   "cell_type": "markdown",
   "id": "b034f507",
   "metadata": {},
   "source": [
    "7. Given this matrix `F` you just created, take the element-wise sum of the 1st and 3rd rows together (producing a single value)"
   ]
  },
  {
   "cell_type": "code",
   "execution_count": null,
   "id": "52c6bd17",
   "metadata": {},
   "outputs": [],
   "source": []
  },
  {
   "cell_type": "code",
   "execution_count": null,
   "id": "fd66e7bf",
   "metadata": {},
   "outputs": [],
   "source": []
  },
  {
   "cell_type": "markdown",
   "id": "78c6114e",
   "metadata": {},
   "source": [
    "8. Write a new function called `myMSE` which takes two vectors `a` and `b` and calculates:\n",
    "\n",
    "$$\n",
    "\\|a-b\\|_2^2 = \\sum_{i=0}^d (a_i - b_i) ^ 2\n",
    "$$\n",
    "\n",
    "**without** using any for loops.\n",
    "\n",
    "Test in on the following inputs:\n",
    "\n",
    "```python\n",
    "vec1 = [1,2,3]\n",
    "vec2 = [4,5,6]\n",
    "print(myMSE(vec1,vec2))\n",
    "---> 27\n",
    "```"
   ]
  },
  {
   "cell_type": "code",
   "execution_count": null,
   "id": "5c463939",
   "metadata": {},
   "outputs": [],
   "source": []
  },
  {
   "cell_type": "code",
   "execution_count": null,
   "id": "cdd1749e",
   "metadata": {},
   "outputs": [],
   "source": []
  },
  {
   "cell_type": "markdown",
   "id": "409ba5c9",
   "metadata": {},
   "source": [
    "9. For this problem, lets look at the dot product!\n",
    "* Create an array `a_1` with the integers between `1-10` (including 10). \n",
    "* Create an array `b_1` with the integers between `11-20` (including 20). \n",
    "* Take their **dot product** using numpy's `np.dot`. \n",
    "* Compare this to you calculating it by hand.\n",
    "* Now re-calculate taking advantage of the `.dot` function built into arrays themselves!  **Hint**. Try typing `a_1.dot?`. "
   ]
  },
  {
   "cell_type": "code",
   "execution_count": null,
   "id": "3ca8a115",
   "metadata": {},
   "outputs": [],
   "source": []
  },
  {
   "cell_type": "code",
   "execution_count": null,
   "id": "05d80860",
   "metadata": {},
   "outputs": [],
   "source": []
  },
  {
   "cell_type": "markdown",
   "id": "a94ef2dd",
   "metadata": {},
   "source": [
    "<div class='info'>\n",
    "\n",
    "<font size='5'>🙋🏽</font>What is the shape of each of your arrays? What do you notice? **Comment below!**\n",
    "\n",
    "</div>\n",
    "\n",
    "---"
   ]
  },
  {
   "cell_type": "markdown",
   "id": "33634bdd",
   "metadata": {},
   "source": []
  },
  {
   "cell_type": "markdown",
   "id": "65d5ec05",
   "metadata": {},
   "source": [
    "---"
   ]
  },
  {
   "cell_type": "markdown",
   "id": "8b829229",
   "metadata": {},
   "source": [
    "10. Now lets see what can go wrong when even vectors have **multiple dimensions!**. \n",
    "\n",
    "* Create a **column vector**  `a_1` with the integers between `1-10` (including 10). Make sure its shape is `(10,1)`.\n",
    "* Create a **column vector**  `b_1` with the integers between `11-20` (including 20). Make sure its shape is `(10,1)`."
   ]
  },
  {
   "cell_type": "code",
   "execution_count": null,
   "id": "2105c764",
   "metadata": {},
   "outputs": [],
   "source": []
  },
  {
   "cell_type": "code",
   "execution_count": null,
   "id": "b7bdc65c",
   "metadata": {},
   "outputs": [],
   "source": []
  },
  {
   "cell_type": "markdown",
   "id": "b91e27e2",
   "metadata": {},
   "source": [
    "Now take their dot product:"
   ]
  },
  {
   "cell_type": "code",
   "execution_count": null,
   "id": "3d770afc",
   "metadata": {},
   "outputs": [],
   "source": []
  },
  {
   "cell_type": "code",
   "execution_count": null,
   "id": "20c60223",
   "metadata": {},
   "outputs": [],
   "source": []
  },
  {
   "cell_type": "markdown",
   "id": "c2fe3c1e",
   "metadata": {},
   "source": [
    "<div class='info'>\n",
    "\n",
    "<font size='5'>🙋🏽</font>What do you notice? How can we fix this? **Comment below!** and then fix it in code!\n",
    "\n",
    "</div>\n",
    "\n",
    "**Hint**: Check out the `transpose` function, whose alias is `.T`\n",
    "\n",
    "---\n"
   ]
  },
  {
   "cell_type": "markdown",
   "id": "1cec5c91",
   "metadata": {},
   "source": []
  },
  {
   "cell_type": "markdown",
   "id": "c5be0751",
   "metadata": {},
   "source": [
    "---"
   ]
  },
  {
   "cell_type": "code",
   "execution_count": null,
   "id": "92ccf7e7",
   "metadata": {},
   "outputs": [],
   "source": []
  },
  {
   "cell_type": "code",
   "execution_count": null,
   "id": "c02e5145",
   "metadata": {},
   "outputs": [],
   "source": []
  },
  {
   "cell_type": "markdown",
   "id": "a6c2674c",
   "metadata": {},
   "source": [
    "---"
   ]
  }
 ],
 "metadata": {
  "kernelspec": {
   "display_name": "Python 3 (ipykernel)",
   "language": "python",
   "name": "python3"
  },
  "language_info": {
   "codemirror_mode": {
    "name": "ipython",
    "version": 3
   },
   "file_extension": ".py",
   "mimetype": "text/x-python",
   "name": "python",
   "nbconvert_exporter": "python",
   "pygments_lexer": "ipython3",
   "version": "3.8.3"
  },
  "toc": {
   "base_numbering": 1,
   "nav_menu": {},
   "number_sections": false,
   "sideBar": true,
   "skip_h1_title": false,
   "title_cell": "Table of Contents",
   "title_sidebar": "Contents",
   "toc_cell": false,
   "toc_position": {},
   "toc_section_display": true,
   "toc_window_display": false
  }
 },
 "nbformat": 4,
 "nbformat_minor": 5
}
